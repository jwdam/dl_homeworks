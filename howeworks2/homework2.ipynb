{
 "cells": [
  {
   "cell_type": "markdown",
   "id": "226ad56f-b8b4-40ea-ad38-0d2e2685059e",
   "metadata": {},
   "source": [
    "# Homework\t#2"
   ]
  },
  {
   "cell_type": "code",
   "execution_count": 14,
   "id": "c2b9f372-c789-4977-800d-108aa9fbbd12",
   "metadata": {},
   "outputs": [],
   "source": [
    "import torch\n",
    "from torch import nn, optim\n",
    "from torch.utils.data import random_split, DataLoader\n",
    "from datetime import datetime\n",
    "import wandb\n",
    "import argparse"
   ]
  },
  {
   "cell_type": "code",
   "execution_count": 27,
   "id": "c4f0d157-dcf0-4934-b3df-2f1c196f9d09",
   "metadata": {},
   "outputs": [
    {
     "name": "stdout",
     "output_type": "stream",
     "text": [
      "DATA_PATH: C:\\Users\\sjw99\\git\\link_dl\\_03_homeworks\\homework_2\n"
     ]
    }
   ],
   "source": [
    "import os\n",
    "import sys\n",
    "\n",
    "# 경로 설정\n",
    "DATA_PATH =  os.path.abspath(os.path.join(os.pardir, \"_03_homeworks\", \"homework_2\"))  \n",
    "print(\"DATA_PATH:\", DATA_PATH)\n",
    "\n",
    "sys.path.append(DATA_PATH)\n",
    "\n",
    "from titanic_dataset import TitanicTestDataset, get_preprocessed_dataset"
   ]
  },
  {
   "cell_type": "code",
   "execution_count": 28,
   "id": "6f981d39-7275-4750-bf09-d2d92d460db7",
   "metadata": {},
   "outputs": [],
   "source": [
    "# 데이터 로드 함수\n",
    "def get_data():\n",
    "  train_dataset, validation_dataset, test_dataset = get_preprocessed_dataset()\n",
    "  print(len(train_dataset), len(validation_dataset), len(test_dataset))\n",
    "\n",
    "  train_data_loader = DataLoader(dataset=train_dataset, batch_size=wandb.config.batch_size, shuffle=True)\n",
    "  validation_data_loader = DataLoader(dataset=validation_dataset, batch_size=len(validation_dataset))\n",
    "  test_data_loader = DataLoader(dataset=test_dataset, batch_size=len(test_dataset))\n",
    "    \n",
    "  return train_data_loader, validation_data_loader, test_data_loader"
   ]
  },
  {
   "cell_type": "markdown",
   "id": "9152a556-3e66-4ef2-a42a-af4889715e06",
   "metadata": {},
   "source": [
    "# [요구사항 1] titanic 딥러닝 모델 기본 훈련"
   ]
  },
  {
   "cell_type": "code",
   "execution_count": 81,
   "id": "a49ddd8e-fe70-4bae-833c-b55aaae37d3a",
   "metadata": {},
   "outputs": [],
   "source": [
    "# 모델 정의\n",
    "# in_features=10, output=1, 10->32->16->1로 구성\n",
    "class MyTitanicModel(nn.Module):\n",
    "  def __init__(self, n_input, n_output, activation_fn):\n",
    "    super().__init__()\n",
    "\n",
    "    self.model = nn.Sequential(\n",
    "      nn.Linear(n_input, wandb.config.n_hidden_unit_list[0]),\n",
    "      activation_fn(),\n",
    "      nn.Linear(wandb.config.n_hidden_unit_list[0], wandb.config.n_hidden_unit_list[1]),\n",
    "      activation_fn(),\n",
    "      nn.Linear(wandb.config.n_hidden_unit_list[1], n_output),\n",
    "    )\n",
    "\n",
    "  def forward(self, x):\n",
    "    x = self.model(x)\n",
    "    return x"
   ]
  },
  {
   "cell_type": "markdown",
   "id": "28066836-52be-44ae-af00-80bf72c4ddb0",
   "metadata": {},
   "source": [
    "# 모델의 뉴런 조합에 대한 고찰\n",
    "모델의 각 은닉층(hidden layer)에 대한 뉴런 수를 조정하기 위해  \n",
    "Layer1, Layer2에 대해 (64, 32), (64, 16), (64, 8), (32, 16), (32, 8)  \n",
    "다섯 가지 조합으로 실험을 수행하였다.  \n",
    "그 결과, (32, 16) 조합에서 Validation Loss가 가장 낮고 학습 안정성도 가장 우수하게 나타났다.  \n",
    "이는 첫 번째 층의 뉴런 수가 64일 경우 모델의 표현력이 과도하게 커져 과적합(overfitting) 이 발생했고,  \n",
    "반대로 두 번째 층의 뉴런 수가 8일 경우 표현력이 부족해 underfitting 경향을 보였기 때문이다.  \n",
    "따라서 (32, 16) 조합이 모델 복잡도와 일반화 성능 간의 균형을 가장 잘 유지하는 최적 구조로 판단된다.  "
   ]
  },
  {
   "cell_type": "code",
   "execution_count": 83,
   "id": "12ab96aa-e8d0-4a85-944e-c68d9b4805fc",
   "metadata": {},
   "outputs": [],
   "source": [
    "# Optimizer 및 모델 생성 함수\n",
    "def get_model_and_optimizer(activation_fn=nn.ReLU):\n",
    "    my_model = MyTitanicModel(n_input=10, n_output=1, activation_fn=activation_fn) # 요구사항2에서 활성화 함수를 조정해가며 쓸수 있도록 수정함\n",
    "    optimizer = optim.SGD(my_model.parameters(), lr=wandb.config.learning_rate)\n",
    "    return my_model, optimizer"
   ]
  },
  {
   "cell_type": "code",
   "execution_count": 85,
   "id": "f03d9263-6dd1-4273-9236-4dcb3a7e98f7",
   "metadata": {},
   "outputs": [],
   "source": [
    "# 학습 루프 함수\n",
    "def training_loop(model, optimizer, train_data_loader, validation_data_loader, track_best=False):\n",
    "  n_epochs = wandb.config.epochs\n",
    "  loss_fn = nn.BCEWithLogitsLoss() # 이진분류를 위해 BinaryCrossEntropy를 사용\n",
    "  next_print_epoch = 100\n",
    "  best_val_loss = float('inf')\n",
    "    \n",
    "  for epoch in range(1, n_epochs + 1):\n",
    "    loss_train = 0.0\n",
    "    num_trains = 0\n",
    "    for train_batch in train_data_loader:\n",
    "      input = train_batch['input']\n",
    "      target = train_batch['target'].unsqueeze(1) # model의 output이 (batch_size,1)형태이므로 2차원 텐서형태로 만들어줌\n",
    "      output_train = model(input)\n",
    "      loss = loss_fn(output_train, target.float())\n",
    "      loss_train += loss.item()\n",
    "      num_trains += 1\n",
    "\n",
    "      loss.backward()\n",
    "      optimizer.step()\n",
    "      optimizer.zero_grad() # c_model.py의 zero_grad가 loss계산과 backward 중간에 있어 위치를 수정함\n",
    "        \n",
    "    loss_validation = 0.0\n",
    "    num_validations = 0\n",
    "    with torch.no_grad():\n",
    "      for validation_batch in validation_data_loader:\n",
    "        input = validation_batch['input']\n",
    "        target = validation_batch['target'].unsqueeze(1)\n",
    "        output_validation = model(input)\n",
    "        loss = loss_fn(output_validation, target.float())\n",
    "        loss_validation += loss.item()\n",
    "        num_validations += 1\n",
    "\n",
    "    train_loss = loss_train / num_trains\n",
    "    val_loss = loss_validation / num_validations\n",
    "      \n",
    "    wandb.log({\n",
    "      \"Epoch\": epoch,\n",
    "      \"Training loss\": train_loss,\n",
    "      \"Validation loss\": val_loss\n",
    "    })\n",
    "      \n",
    "    # 최고 성능 추적 (track_best=True, 요구사항 2에서 사용)\n",
    "    if track_best and val_loss < best_val_loss:\n",
    "        best_val_loss = val_loss\n",
    "        wandb.run.summary[\"best_val_loss\"] = best_val_loss # 마지막 loss가 아닌 최적의 loss를 저장\n",
    "            \n",
    "    if epoch >= next_print_epoch:\n",
    "      print(\n",
    "        f\"Epoch {epoch}, \"\n",
    "        f\"Training loss {loss_train / num_trains:.4f}, \"\n",
    "        f\"Validation loss {loss_validation / num_validations:.4f}\"\n",
    "      )\n",
    "      next_print_epoch += 100"
   ]
  },
  {
   "cell_type": "code",
   "execution_count": 46,
   "id": "1319f20e-3231-4a94-af98-f0b1419c7912",
   "metadata": {},
   "outputs": [
    {
     "data": {
      "text/html": [],
      "text/plain": [
       "<IPython.core.display.HTML object>"
      ]
     },
     "metadata": {},
     "output_type": "display_data"
    },
    {
     "data": {
      "text/html": [
       "Tracking run with wandb version 0.22.1"
      ],
      "text/plain": [
       "<IPython.core.display.HTML object>"
      ]
     },
     "metadata": {},
     "output_type": "display_data"
    },
    {
     "data": {
      "text/html": [
       "Run data is saved locally in <code>C:\\Users\\sjw99\\git\\link_dl\\_04_your_code\\wandb\\run-20251010_114954-pr4cv3uv</code>"
      ],
      "text/plain": [
       "<IPython.core.display.HTML object>"
      ]
     },
     "metadata": {},
     "output_type": "display_data"
    },
    {
     "data": {
      "text/html": [
       "Syncing run <strong><a href='https://wandb.ai/jwdam-korea-university-of-technology-and-education/titanic_training/runs/pr4cv3uv' target=\"_blank\">titanic_base_2025-10-10_11-49-54</a></strong> to <a href='https://wandb.ai/jwdam-korea-university-of-technology-and-education/titanic_training' target=\"_blank\">Weights & Biases</a> (<a href='https://wandb.me/developer-guide' target=\"_blank\">docs</a>)<br>"
      ],
      "text/plain": [
       "<IPython.core.display.HTML object>"
      ]
     },
     "metadata": {},
     "output_type": "display_data"
    },
    {
     "data": {
      "text/html": [
       " View project at <a href='https://wandb.ai/jwdam-korea-university-of-technology-and-education/titanic_training' target=\"_blank\">https://wandb.ai/jwdam-korea-university-of-technology-and-education/titanic_training</a>"
      ],
      "text/plain": [
       "<IPython.core.display.HTML object>"
      ]
     },
     "metadata": {},
     "output_type": "display_data"
    },
    {
     "data": {
      "text/html": [
       " View run at <a href='https://wandb.ai/jwdam-korea-university-of-technology-and-education/titanic_training/runs/pr4cv3uv' target=\"_blank\">https://wandb.ai/jwdam-korea-university-of-technology-and-education/titanic_training/runs/pr4cv3uv</a>"
      ],
      "text/plain": [
       "<IPython.core.display.HTML object>"
      ]
     },
     "metadata": {},
     "output_type": "display_data"
    },
    {
     "data": {
      "text/html": [
       "<button onClick=\"this.nextSibling.style.display='block';this.style.display='none';\">Display W&B run</button><iframe src='https://wandb.ai/jwdam-korea-university-of-technology-and-education/titanic_training/runs/pr4cv3uv?jupyter=true' style='border:none;width:100%;height:420px;display:none;'></iframe>"
      ],
      "text/plain": [
       "<wandb.sdk.wandb_run.Run at 0x1780f57af30>"
      ]
     },
     "execution_count": 46,
     "metadata": {},
     "output_type": "execute_result"
    }
   ],
   "source": [
    "# wandb 설정값\n",
    "current_time_str = datetime.now().astimezone().strftime('%Y-%m-%d_%H-%M-%S')\n",
    "\n",
    "wandb.init(\n",
    "    mode=\"online\",\n",
    "    project=\"titanic_training\",\n",
    "    notes=\"요구사항1: Titanic 기본모델 학습\",\n",
    "    tags=[\"titanic\", \"baseline\"],\n",
    "    name=f\"titanic_base_{current_time_str}\",\n",
    "    config={\n",
    "        \"epochs\": 1000,\n",
    "        \"batch_size\": 64,\n",
    "        \"learning_rate\": 1e-3,\n",
    "        \"activation\": \"ReLU\",\n",
    "        \"n_hidden_unit_list\": [32, 16],\n",
    "    },\n",
    ")"
   ]
  },
  {
   "cell_type": "code",
   "execution_count": 47,
   "id": "479c4d96-304b-4a1b-a2d8-30665b1fe4fc",
   "metadata": {},
   "outputs": [
    {
     "name": "stdout",
     "output_type": "stream",
     "text": [
      "Index(['Survived', 'Pclass', 'Sex', 'Age', 'SibSp', 'Parch', 'Fare',\n",
      "       'Embarked', 'title', 'family_num', 'alone'],\n",
      "      dtype='object')\n",
      "   Survived  Pclass  Sex   Age  SibSp  Parch     Fare  Embarked  title  \\\n",
      "0       0.0       3    1  22.0      1      0   7.2500         2      2   \n",
      "1       1.0       1    0  38.0      1      0  71.2833         0      3   \n",
      "2       1.0       3    0  26.0      0      0   7.9250         2      1   \n",
      "3       1.0       1    0  35.0      1      0  53.1000         2      3   \n",
      "4       0.0       3    1  35.0      0      0   8.0500         2      2   \n",
      "5       0.0       3    1  29.0      0      0   8.4583         1      2   \n",
      "6       0.0       1    1  54.0      0      0  51.8625         2      2   \n",
      "7       0.0       3    1   2.0      3      1  21.0750         2      0   \n",
      "8       1.0       3    0  27.0      0      2  11.1333         2      3   \n",
      "9       1.0       2    0  14.0      1      0  30.0708         0      3   \n",
      "\n",
      "   family_num  alone  \n",
      "0           1    0.0  \n",
      "1           1    0.0  \n",
      "2           0    1.0  \n",
      "3           1    0.0  \n",
      "4           0    1.0  \n",
      "5           0    1.0  \n",
      "6           0    1.0  \n",
      "7           4    0.0  \n",
      "8           2    0.0  \n",
      "9           1    0.0  \n",
      "Data Size: 891, Input Shape: torch.Size([891, 10]), Target Shape: torch.Size([891])\n",
      "713 178 418\n"
     ]
    }
   ],
   "source": [
    "# 데이터 load\n",
    "train_data_loader, validation_data_loader, _ = get_data()\n",
    "\n",
    "# 모델 및 옵티마이저 정의 (ReLU 사용)\n",
    "model, optimizer = get_model_and_optimizer()  "
   ]
  },
  {
   "cell_type": "code",
   "execution_count": 48,
   "id": "174196ea-999e-4cb2-96a0-940b175e6bf9",
   "metadata": {},
   "outputs": [
    {
     "name": "stdout",
     "output_type": "stream",
     "text": [
      "Epoch 100, Training loss 0.5688, Validation loss 0.6669\n",
      "Epoch 200, Training loss 0.5596, Validation loss 0.6551\n",
      "Epoch 300, Training loss 0.5761, Validation loss 0.6469\n",
      "Epoch 400, Training loss 0.5581, Validation loss 0.6414\n",
      "Epoch 500, Training loss 0.5783, Validation loss 0.6370\n",
      "Epoch 600, Training loss 0.5496, Validation loss 0.6393\n",
      "Epoch 700, Training loss 0.5364, Validation loss 0.6346\n",
      "Epoch 800, Training loss 0.5507, Validation loss 0.6441\n",
      "Epoch 900, Training loss 0.5389, Validation loss 0.6375\n",
      "Epoch 1000, Training loss 0.5239, Validation loss 0.6322\n"
     ]
    }
   ],
   "source": [
    "# 학습 루프 실행\n",
    "training_loop(\n",
    "    model=model,\n",
    "    optimizer=optimizer,\n",
    "    train_data_loader=train_data_loader,\n",
    "    validation_data_loader=validation_data_loader\n",
    ")"
   ]
  },
  {
   "cell_type": "code",
   "execution_count": 49,
   "id": "4316620d-87cf-4700-9bb4-13a6cc0c44a8",
   "metadata": {},
   "outputs": [
    {
     "name": "stdout",
     "output_type": "stream",
     "text": [
      "\n",
      "WandB Run URL: https://wandb.ai/jwdam-korea-university-of-technology-and-education/titanic_training/runs/pr4cv3uv\n"
     ]
    },
    {
     "data": {
      "text/html": [],
      "text/plain": [
       "<IPython.core.display.HTML object>"
      ]
     },
     "metadata": {},
     "output_type": "display_data"
    },
    {
     "data": {
      "text/html": [
       "<br>    <style><br>        .wandb-row {<br>            display: flex;<br>            flex-direction: row;<br>            flex-wrap: wrap;<br>            justify-content: flex-start;<br>            width: 100%;<br>        }<br>        .wandb-col {<br>            display: flex;<br>            flex-direction: column;<br>            flex-basis: 100%;<br>            flex: 1;<br>            padding: 10px;<br>        }<br>    </style><br><div class=\"wandb-row\"><div class=\"wandb-col\"><h3>Run history:</h3><br/><table class=\"wandb\"><tr><td>Epoch</td><td>▁▁▂▂▂▃▃▃▄▄▄▄▄▄▄▄▄▅▅▅▅▅▆▆▆▆▆▆▆▆▆▇▇▇▇▇████</td></tr><tr><td>Training loss</td><td>█▆▅▅▄▃▄▄▃▃▃▂▃▃▃▃▃▃▃▄▂▂▃▂▃▂▂▁▂▂▃▂▂▂▁▃▁▁▂▂</td></tr><tr><td>Validation loss</td><td>▇██▇█▇▆▆▅▄▄▄▅▃▄▄▅▄▅▃▃▃▃▃▃▃▃▃▂▂▃▃▂▃▅▂▃█▂▁</td></tr></table><br/></div><div class=\"wandb-col\"><h3>Run summary:</h3><br/><table class=\"wandb\"><tr><td>Epoch</td><td>1000</td></tr><tr><td>Training loss</td><td>0.52391</td></tr><tr><td>Validation loss</td><td>0.63216</td></tr></table><br/></div></div>"
      ],
      "text/plain": [
       "<IPython.core.display.HTML object>"
      ]
     },
     "metadata": {},
     "output_type": "display_data"
    },
    {
     "data": {
      "text/html": [
       " View run <strong style=\"color:#cdcd00\">titanic_base_2025-10-10_11-49-54</strong> at: <a href='https://wandb.ai/jwdam-korea-university-of-technology-and-education/titanic_training/runs/pr4cv3uv' target=\"_blank\">https://wandb.ai/jwdam-korea-university-of-technology-and-education/titanic_training/runs/pr4cv3uv</a><br> View project at: <a href='https://wandb.ai/jwdam-korea-university-of-technology-and-education/titanic_training' target=\"_blank\">https://wandb.ai/jwdam-korea-university-of-technology-and-education/titanic_training</a><br>Synced 5 W&B file(s), 0 media file(s), 0 artifact file(s) and 0 other file(s)"
      ],
      "text/plain": [
       "<IPython.core.display.HTML object>"
      ]
     },
     "metadata": {},
     "output_type": "display_data"
    },
    {
     "data": {
      "text/html": [
       "Find logs at: <code>.\\wandb\\run-20251010_114954-pr4cv3uv\\logs</code>"
      ],
      "text/plain": [
       "<IPython.core.display.HTML object>"
      ]
     },
     "metadata": {},
     "output_type": "display_data"
    }
   ],
   "source": [
    "print(\"\\nWandB Run URL:\", wandb.run.url)\n",
    "wandb.finish()"
   ]
  },
  {
   "cell_type": "markdown",
   "id": "0f88995b-9cfd-48bc-9f5b-bf54d06f6a84",
   "metadata": {},
   "source": [
    "# [요구사항 2] Activation Function과 Batch Size 변경 및 선택하기"
   ]
  },
  {
   "cell_type": "code",
   "execution_count": 50,
   "id": "c5743fa2-66f1-444d-8c2e-809e5cff01e9",
   "metadata": {},
   "outputs": [],
   "source": [
    "activation_list = ['ReLU', 'Sigmoid', 'ELU', 'LeakyReLU']\n",
    "batch_sizes = [16, 32, 64, 128]\n",
    "\n",
    "activation_map = {\n",
    "    'ReLU' : nn.ReLU, \n",
    "    'Sigmoid' : nn.Sigmoid,\n",
    "    'ELU' : nn.ELU,\n",
    "    'LeakyReLU' : nn.LeakyReLU\n",
    "}"
   ]
  },
  {
   "cell_type": "code",
   "execution_count": 51,
   "id": "b60386c0-a8c9-41cd-bd50-f3faa9945b88",
   "metadata": {},
   "outputs": [],
   "source": [
    "import warnings\n",
    "warnings.filterwarnings(\"ignore\", category=FutureWarning)"
   ]
  },
  {
   "cell_type": "code",
   "execution_count": 52,
   "id": "d58eb932-ac6a-4746-8d3e-1637473dd433",
   "metadata": {},
   "outputs": [
    {
     "data": {
      "text/html": [],
      "text/plain": [
       "<IPython.core.display.HTML object>"
      ]
     },
     "metadata": {},
     "output_type": "display_data"
    },
    {
     "data": {
      "text/html": [
       "Tracking run with wandb version 0.22.1"
      ],
      "text/plain": [
       "<IPython.core.display.HTML object>"
      ]
     },
     "metadata": {},
     "output_type": "display_data"
    },
    {
     "data": {
      "text/html": [
       "Run data is saved locally in <code>C:\\Users\\sjw99\\git\\link_dl\\_04_your_code\\wandb\\run-20251010_115404-r7kd525r</code>"
      ],
      "text/plain": [
       "<IPython.core.display.HTML object>"
      ]
     },
     "metadata": {},
     "output_type": "display_data"
    },
    {
     "data": {
      "text/html": [
       "Syncing run <strong><a href='https://wandb.ai/jwdam-korea-university-of-technology-and-education/titanic_training/runs/r7kd525r' target=\"_blank\">titanic_ReLU_bs16_2025-10-10_11-54-04</a></strong> to <a href='https://wandb.ai/jwdam-korea-university-of-technology-and-education/titanic_training' target=\"_blank\">Weights & Biases</a> (<a href='https://wandb.me/developer-guide' target=\"_blank\">docs</a>)<br>"
      ],
      "text/plain": [
       "<IPython.core.display.HTML object>"
      ]
     },
     "metadata": {},
     "output_type": "display_data"
    },
    {
     "data": {
      "text/html": [
       " View project at <a href='https://wandb.ai/jwdam-korea-university-of-technology-and-education/titanic_training' target=\"_blank\">https://wandb.ai/jwdam-korea-university-of-technology-and-education/titanic_training</a>"
      ],
      "text/plain": [
       "<IPython.core.display.HTML object>"
      ]
     },
     "metadata": {},
     "output_type": "display_data"
    },
    {
     "data": {
      "text/html": [
       " View run at <a href='https://wandb.ai/jwdam-korea-university-of-technology-and-education/titanic_training/runs/r7kd525r' target=\"_blank\">https://wandb.ai/jwdam-korea-university-of-technology-and-education/titanic_training/runs/r7kd525r</a>"
      ],
      "text/plain": [
       "<IPython.core.display.HTML object>"
      ]
     },
     "metadata": {},
     "output_type": "display_data"
    },
    {
     "name": "stdout",
     "output_type": "stream",
     "text": [
      "Index(['Survived', 'Pclass', 'Sex', 'Age', 'SibSp', 'Parch', 'Fare',\n",
      "       'Embarked', 'title', 'family_num', 'alone'],\n",
      "      dtype='object')\n",
      "   Survived  Pclass  Sex   Age  SibSp  Parch     Fare  Embarked  title  \\\n",
      "0       0.0       3    1  22.0      1      0   7.2500         2      2   \n",
      "1       1.0       1    0  38.0      1      0  71.2833         0      3   \n",
      "2       1.0       3    0  26.0      0      0   7.9250         2      1   \n",
      "3       1.0       1    0  35.0      1      0  53.1000         2      3   \n",
      "4       0.0       3    1  35.0      0      0   8.0500         2      2   \n",
      "5       0.0       3    1  29.0      0      0   8.4583         1      2   \n",
      "6       0.0       1    1  54.0      0      0  51.8625         2      2   \n",
      "7       0.0       3    1   2.0      3      1  21.0750         2      0   \n",
      "8       1.0       3    0  27.0      0      2  11.1333         2      3   \n",
      "9       1.0       2    0  14.0      1      0  30.0708         0      3   \n",
      "\n",
      "   family_num  alone  \n",
      "0           1    0.0  \n",
      "1           1    0.0  \n",
      "2           0    1.0  \n",
      "3           1    0.0  \n",
      "4           0    1.0  \n",
      "5           0    1.0  \n",
      "6           0    1.0  \n",
      "7           4    0.0  \n",
      "8           2    0.0  \n",
      "9           1    0.0  \n",
      "Data Size: 891, Input Shape: torch.Size([891, 10]), Target Shape: torch.Size([891])\n",
      "713 178 418\n",
      "--- ReLU / 16 ---\n",
      "Epoch 100, Training loss 0.5916, Validation loss 0.5679\n",
      "Epoch 200, Training loss 0.5792, Validation loss 0.5664\n",
      "Epoch 300, Training loss 0.5709, Validation loss 0.5498\n",
      "Epoch 400, Training loss 0.5550, Validation loss 0.5549\n",
      "Epoch 500, Training loss 0.5308, Validation loss 0.5248\n",
      "Epoch 600, Training loss 0.5059, Validation loss 0.4949\n",
      "Epoch 700, Training loss 0.4835, Validation loss 0.4793\n",
      "Epoch 800, Training loss 0.4864, Validation loss 0.4777\n",
      "Epoch 900, Training loss 0.4521, Validation loss 0.4636\n",
      "Epoch 1000, Training loss 0.4543, Validation loss 0.4452\n",
      "\n",
      " Finished ReLU / Batch=16\n",
      "WandB URL: https://wandb.ai/jwdam-korea-university-of-technology-and-education/titanic_training/runs/r7kd525r\n"
     ]
    },
    {
     "data": {
      "text/html": [],
      "text/plain": [
       "<IPython.core.display.HTML object>"
      ]
     },
     "metadata": {},
     "output_type": "display_data"
    },
    {
     "data": {
      "text/html": [
       "<br>    <style><br>        .wandb-row {<br>            display: flex;<br>            flex-direction: row;<br>            flex-wrap: wrap;<br>            justify-content: flex-start;<br>            width: 100%;<br>        }<br>        .wandb-col {<br>            display: flex;<br>            flex-direction: column;<br>            flex-basis: 100%;<br>            flex: 1;<br>            padding: 10px;<br>        }<br>    </style><br><div class=\"wandb-row\"><div class=\"wandb-col\"><h3>Run history:</h3><br/><table class=\"wandb\"><tr><td>Epoch</td><td>▁▁▁▁▂▂▂▃▃▃▃▃▃▃▄▄▄▄▄▅▅▅▅▅▅▅▅▆▆▆▆▆▆▆▇▇▇▇▇█</td></tr><tr><td>Training loss</td><td>██▇█▇▇▇▇▇▇▇▆▆▆▆▆▆▆▆▆▆▆▅▅▄▄▄▃▃▃▃▃▃▂▃▂▂▂▁▁</td></tr><tr><td>Validation loss</td><td>▆▅▅▅▅▅▅▅▅▅▅▄▅▄▄▅▄▄▄▄▄▃▄▃▄▂▂▂▃▁▃▁▂█▄▁▁▂▁▁</td></tr></table><br/></div><div class=\"wandb-col\"><h3>Run summary:</h3><br/><table class=\"wandb\"><tr><td>Epoch</td><td>1000</td></tr><tr><td>Training loss</td><td>0.45425</td></tr><tr><td>Validation loss</td><td>0.44515</td></tr><tr><td>best_val_loss</td><td>0.43651</td></tr></table><br/></div></div>"
      ],
      "text/plain": [
       "<IPython.core.display.HTML object>"
      ]
     },
     "metadata": {},
     "output_type": "display_data"
    },
    {
     "data": {
      "text/html": [
       " View run <strong style=\"color:#cdcd00\">titanic_ReLU_bs16_2025-10-10_11-54-04</strong> at: <a href='https://wandb.ai/jwdam-korea-university-of-technology-and-education/titanic_training/runs/r7kd525r' target=\"_blank\">https://wandb.ai/jwdam-korea-university-of-technology-and-education/titanic_training/runs/r7kd525r</a><br> View project at: <a href='https://wandb.ai/jwdam-korea-university-of-technology-and-education/titanic_training' target=\"_blank\">https://wandb.ai/jwdam-korea-university-of-technology-and-education/titanic_training</a><br>Synced 5 W&B file(s), 0 media file(s), 0 artifact file(s) and 0 other file(s)"
      ],
      "text/plain": [
       "<IPython.core.display.HTML object>"
      ]
     },
     "metadata": {},
     "output_type": "display_data"
    },
    {
     "data": {
      "text/html": [
       "Find logs at: <code>.\\wandb\\run-20251010_115404-r7kd525r\\logs</code>"
      ],
      "text/plain": [
       "<IPython.core.display.HTML object>"
      ]
     },
     "metadata": {},
     "output_type": "display_data"
    },
    {
     "data": {
      "text/html": [],
      "text/plain": [
       "<IPython.core.display.HTML object>"
      ]
     },
     "metadata": {},
     "output_type": "display_data"
    },
    {
     "data": {
      "text/html": [
       "Tracking run with wandb version 0.22.1"
      ],
      "text/plain": [
       "<IPython.core.display.HTML object>"
      ]
     },
     "metadata": {},
     "output_type": "display_data"
    },
    {
     "data": {
      "text/html": [
       "Run data is saved locally in <code>C:\\Users\\sjw99\\git\\link_dl\\_04_your_code\\wandb\\run-20251010_115442-9hngaknx</code>"
      ],
      "text/plain": [
       "<IPython.core.display.HTML object>"
      ]
     },
     "metadata": {},
     "output_type": "display_data"
    },
    {
     "data": {
      "text/html": [
       "Syncing run <strong><a href='https://wandb.ai/jwdam-korea-university-of-technology-and-education/titanic_training/runs/9hngaknx' target=\"_blank\">titanic_ReLU_bs32_2025-10-10_11-54-42</a></strong> to <a href='https://wandb.ai/jwdam-korea-university-of-technology-and-education/titanic_training' target=\"_blank\">Weights & Biases</a> (<a href='https://wandb.me/developer-guide' target=\"_blank\">docs</a>)<br>"
      ],
      "text/plain": [
       "<IPython.core.display.HTML object>"
      ]
     },
     "metadata": {},
     "output_type": "display_data"
    },
    {
     "data": {
      "text/html": [
       " View project at <a href='https://wandb.ai/jwdam-korea-university-of-technology-and-education/titanic_training' target=\"_blank\">https://wandb.ai/jwdam-korea-university-of-technology-and-education/titanic_training</a>"
      ],
      "text/plain": [
       "<IPython.core.display.HTML object>"
      ]
     },
     "metadata": {},
     "output_type": "display_data"
    },
    {
     "data": {
      "text/html": [
       " View run at <a href='https://wandb.ai/jwdam-korea-university-of-technology-and-education/titanic_training/runs/9hngaknx' target=\"_blank\">https://wandb.ai/jwdam-korea-university-of-technology-and-education/titanic_training/runs/9hngaknx</a>"
      ],
      "text/plain": [
       "<IPython.core.display.HTML object>"
      ]
     },
     "metadata": {},
     "output_type": "display_data"
    },
    {
     "name": "stdout",
     "output_type": "stream",
     "text": [
      "Index(['Survived', 'Pclass', 'Sex', 'Age', 'SibSp', 'Parch', 'Fare',\n",
      "       'Embarked', 'title', 'family_num', 'alone'],\n",
      "      dtype='object')\n",
      "   Survived  Pclass  Sex   Age  SibSp  Parch     Fare  Embarked  title  \\\n",
      "0       0.0       3    1  22.0      1      0   7.2500         2      2   \n",
      "1       1.0       1    0  38.0      1      0  71.2833         0      3   \n",
      "2       1.0       3    0  26.0      0      0   7.9250         2      1   \n",
      "3       1.0       1    0  35.0      1      0  53.1000         2      3   \n",
      "4       0.0       3    1  35.0      0      0   8.0500         2      2   \n",
      "5       0.0       3    1  29.0      0      0   8.4583         1      2   \n",
      "6       0.0       1    1  54.0      0      0  51.8625         2      2   \n",
      "7       0.0       3    1   2.0      3      1  21.0750         2      0   \n",
      "8       1.0       3    0  27.0      0      2  11.1333         2      3   \n",
      "9       1.0       2    0  14.0      1      0  30.0708         0      3   \n",
      "\n",
      "   family_num  alone  \n",
      "0           1    0.0  \n",
      "1           1    0.0  \n",
      "2           0    1.0  \n",
      "3           1    0.0  \n",
      "4           0    1.0  \n",
      "5           0    1.0  \n",
      "6           0    1.0  \n",
      "7           4    0.0  \n",
      "8           2    0.0  \n",
      "9           1    0.0  \n",
      "Data Size: 891, Input Shape: torch.Size([891, 10]), Target Shape: torch.Size([891])\n",
      "713 178 418\n",
      "--- ReLU / 32 ---\n",
      "Epoch 100, Training loss 0.5854, Validation loss 0.6333\n",
      "Epoch 200, Training loss 0.5712, Validation loss 0.6240\n",
      "Epoch 300, Training loss 0.5578, Validation loss 0.6187\n",
      "Epoch 400, Training loss 0.5344, Validation loss 0.6033\n",
      "Epoch 500, Training loss 0.5237, Validation loss 0.5931\n",
      "Epoch 600, Training loss 0.5041, Validation loss 0.5634\n",
      "Epoch 700, Training loss 0.5043, Validation loss 0.6869\n",
      "Epoch 800, Training loss 0.4629, Validation loss 0.6431\n",
      "Epoch 900, Training loss 0.4637, Validation loss 0.5640\n",
      "Epoch 1000, Training loss 0.4439, Validation loss 0.5399\n",
      "\n",
      " Finished ReLU / Batch=32\n",
      "WandB URL: https://wandb.ai/jwdam-korea-university-of-technology-and-education/titanic_training/runs/9hngaknx\n"
     ]
    },
    {
     "data": {
      "text/html": [],
      "text/plain": [
       "<IPython.core.display.HTML object>"
      ]
     },
     "metadata": {},
     "output_type": "display_data"
    },
    {
     "data": {
      "text/html": [
       "<br>    <style><br>        .wandb-row {<br>            display: flex;<br>            flex-direction: row;<br>            flex-wrap: wrap;<br>            justify-content: flex-start;<br>            width: 100%;<br>        }<br>        .wandb-col {<br>            display: flex;<br>            flex-direction: column;<br>            flex-basis: 100%;<br>            flex: 1;<br>            padding: 10px;<br>        }<br>    </style><br><div class=\"wandb-row\"><div class=\"wandb-col\"><h3>Run history:</h3><br/><table class=\"wandb\"><tr><td>Epoch</td><td>▁▁▁▂▂▂▂▂▃▃▃▃▄▄▄▄▄▄▄▅▅▅▅▅▅▆▆▆▆▆▆▇▇▇▇▇████</td></tr><tr><td>Training loss</td><td>████▇▇▇▇▇▆▆▆▆▆▆▆▆▅▅▅▅▅▅▅▅▅▄▄▄▃▃▃▂▂▂▁▁▁▂▁</td></tr><tr><td>Validation loss</td><td>█▆▆▆▆▆▅▅▅▅▅▅▅▅▄▄▅▄▄▄▃▃▄▃▃▄██▃▂▅▇▃▃▁▁▁▂▆▂</td></tr></table><br/></div><div class=\"wandb-col\"><h3>Run summary:</h3><br/><table class=\"wandb\"><tr><td>Epoch</td><td>1000</td></tr><tr><td>Training loss</td><td>0.44391</td></tr><tr><td>Validation loss</td><td>0.53991</td></tr><tr><td>best_val_loss</td><td>0.52294</td></tr></table><br/></div></div>"
      ],
      "text/plain": [
       "<IPython.core.display.HTML object>"
      ]
     },
     "metadata": {},
     "output_type": "display_data"
    },
    {
     "data": {
      "text/html": [
       " View run <strong style=\"color:#cdcd00\">titanic_ReLU_bs32_2025-10-10_11-54-42</strong> at: <a href='https://wandb.ai/jwdam-korea-university-of-technology-and-education/titanic_training/runs/9hngaknx' target=\"_blank\">https://wandb.ai/jwdam-korea-university-of-technology-and-education/titanic_training/runs/9hngaknx</a><br> View project at: <a href='https://wandb.ai/jwdam-korea-university-of-technology-and-education/titanic_training' target=\"_blank\">https://wandb.ai/jwdam-korea-university-of-technology-and-education/titanic_training</a><br>Synced 5 W&B file(s), 0 media file(s), 0 artifact file(s) and 0 other file(s)"
      ],
      "text/plain": [
       "<IPython.core.display.HTML object>"
      ]
     },
     "metadata": {},
     "output_type": "display_data"
    },
    {
     "data": {
      "text/html": [
       "Find logs at: <code>.\\wandb\\run-20251010_115442-9hngaknx\\logs</code>"
      ],
      "text/plain": [
       "<IPython.core.display.HTML object>"
      ]
     },
     "metadata": {},
     "output_type": "display_data"
    },
    {
     "data": {
      "text/html": [],
      "text/plain": [
       "<IPython.core.display.HTML object>"
      ]
     },
     "metadata": {},
     "output_type": "display_data"
    },
    {
     "data": {
      "text/html": [
       "Tracking run with wandb version 0.22.1"
      ],
      "text/plain": [
       "<IPython.core.display.HTML object>"
      ]
     },
     "metadata": {},
     "output_type": "display_data"
    },
    {
     "data": {
      "text/html": [
       "Run data is saved locally in <code>C:\\Users\\sjw99\\git\\link_dl\\_04_your_code\\wandb\\run-20251010_115507-0uvd843k</code>"
      ],
      "text/plain": [
       "<IPython.core.display.HTML object>"
      ]
     },
     "metadata": {},
     "output_type": "display_data"
    },
    {
     "data": {
      "text/html": [
       "Syncing run <strong><a href='https://wandb.ai/jwdam-korea-university-of-technology-and-education/titanic_training/runs/0uvd843k' target=\"_blank\">titanic_ReLU_bs64_2025-10-10_11-55-07</a></strong> to <a href='https://wandb.ai/jwdam-korea-university-of-technology-and-education/titanic_training' target=\"_blank\">Weights & Biases</a> (<a href='https://wandb.me/developer-guide' target=\"_blank\">docs</a>)<br>"
      ],
      "text/plain": [
       "<IPython.core.display.HTML object>"
      ]
     },
     "metadata": {},
     "output_type": "display_data"
    },
    {
     "data": {
      "text/html": [
       " View project at <a href='https://wandb.ai/jwdam-korea-university-of-technology-and-education/titanic_training' target=\"_blank\">https://wandb.ai/jwdam-korea-university-of-technology-and-education/titanic_training</a>"
      ],
      "text/plain": [
       "<IPython.core.display.HTML object>"
      ]
     },
     "metadata": {},
     "output_type": "display_data"
    },
    {
     "data": {
      "text/html": [
       " View run at <a href='https://wandb.ai/jwdam-korea-university-of-technology-and-education/titanic_training/runs/0uvd843k' target=\"_blank\">https://wandb.ai/jwdam-korea-university-of-technology-and-education/titanic_training/runs/0uvd843k</a>"
      ],
      "text/plain": [
       "<IPython.core.display.HTML object>"
      ]
     },
     "metadata": {},
     "output_type": "display_data"
    },
    {
     "name": "stdout",
     "output_type": "stream",
     "text": [
      "Index(['Survived', 'Pclass', 'Sex', 'Age', 'SibSp', 'Parch', 'Fare',\n",
      "       'Embarked', 'title', 'family_num', 'alone'],\n",
      "      dtype='object')\n",
      "   Survived  Pclass  Sex   Age  SibSp  Parch     Fare  Embarked  title  \\\n",
      "0       0.0       3    1  22.0      1      0   7.2500         2      2   \n",
      "1       1.0       1    0  38.0      1      0  71.2833         0      3   \n",
      "2       1.0       3    0  26.0      0      0   7.9250         2      1   \n",
      "3       1.0       1    0  35.0      1      0  53.1000         2      3   \n",
      "4       0.0       3    1  35.0      0      0   8.0500         2      2   \n",
      "5       0.0       3    1  29.0      0      0   8.4583         1      2   \n",
      "6       0.0       1    1  54.0      0      0  51.8625         2      2   \n",
      "7       0.0       3    1   2.0      3      1  21.0750         2      0   \n",
      "8       1.0       3    0  27.0      0      2  11.1333         2      3   \n",
      "9       1.0       2    0  14.0      1      0  30.0708         0      3   \n",
      "\n",
      "   family_num  alone  \n",
      "0           1    0.0  \n",
      "1           1    0.0  \n",
      "2           0    1.0  \n",
      "3           1    0.0  \n",
      "4           0    1.0  \n",
      "5           0    1.0  \n",
      "6           0    1.0  \n",
      "7           4    0.0  \n",
      "8           2    0.0  \n",
      "9           1    0.0  \n",
      "Data Size: 891, Input Shape: torch.Size([891, 10]), Target Shape: torch.Size([891])\n",
      "713 178 418\n",
      "--- ReLU / 64 ---\n",
      "Epoch 100, Training loss 0.5932, Validation loss 0.5837\n",
      "Epoch 200, Training loss 0.5944, Validation loss 0.5749\n",
      "Epoch 300, Training loss 0.5780, Validation loss 0.5722\n",
      "Epoch 400, Training loss 0.5864, Validation loss 0.5758\n",
      "Epoch 500, Training loss 0.5687, Validation loss 0.5682\n",
      "Epoch 600, Training loss 0.5556, Validation loss 0.5670\n",
      "Epoch 700, Training loss 0.5639, Validation loss 0.5550\n",
      "Epoch 800, Training loss 0.5573, Validation loss 0.5604\n",
      "Epoch 900, Training loss 0.5405, Validation loss 0.5501\n",
      "Epoch 1000, Training loss 0.5301, Validation loss 0.5551\n",
      "\n",
      " Finished ReLU / Batch=64\n",
      "WandB URL: https://wandb.ai/jwdam-korea-university-of-technology-and-education/titanic_training/runs/0uvd843k\n"
     ]
    },
    {
     "data": {
      "text/html": [],
      "text/plain": [
       "<IPython.core.display.HTML object>"
      ]
     },
     "metadata": {},
     "output_type": "display_data"
    },
    {
     "data": {
      "text/html": [
       "<br>    <style><br>        .wandb-row {<br>            display: flex;<br>            flex-direction: row;<br>            flex-wrap: wrap;<br>            justify-content: flex-start;<br>            width: 100%;<br>        }<br>        .wandb-col {<br>            display: flex;<br>            flex-direction: column;<br>            flex-basis: 100%;<br>            flex: 1;<br>            padding: 10px;<br>        }<br>    </style><br><div class=\"wandb-row\"><div class=\"wandb-col\"><h3>Run history:</h3><br/><table class=\"wandb\"><tr><td>Epoch</td><td>▁▁▁▁▁▂▂▂▂▂▃▃▃▃▃▃▄▄▄▄▄▄▅▅▅▅▅▆▆▆▆▆▆▇▇▇▇███</td></tr><tr><td>Training loss</td><td>████▇█▇█▇▇▆▅▆▆▇▅▆▆▅▅▅▅▅▄▅▄▅▄▄▃▃▄▅▃▄▃▄▃▁▁</td></tr><tr><td>Validation loss</td><td>▇▆▆▆█▅▇▅▆▇▅▅█▅▄▅▆▄▅▄▆▄▅▄▄▃▅▄▃▃▃▅▃▄▂▂▂▄▂▁</td></tr></table><br/></div><div class=\"wandb-col\"><h3>Run summary:</h3><br/><table class=\"wandb\"><tr><td>Epoch</td><td>1000</td></tr><tr><td>Training loss</td><td>0.53006</td></tr><tr><td>Validation loss</td><td>0.55512</td></tr><tr><td>best_val_loss</td><td>0.53387</td></tr></table><br/></div></div>"
      ],
      "text/plain": [
       "<IPython.core.display.HTML object>"
      ]
     },
     "metadata": {},
     "output_type": "display_data"
    },
    {
     "data": {
      "text/html": [
       " View run <strong style=\"color:#cdcd00\">titanic_ReLU_bs64_2025-10-10_11-55-07</strong> at: <a href='https://wandb.ai/jwdam-korea-university-of-technology-and-education/titanic_training/runs/0uvd843k' target=\"_blank\">https://wandb.ai/jwdam-korea-university-of-technology-and-education/titanic_training/runs/0uvd843k</a><br> View project at: <a href='https://wandb.ai/jwdam-korea-university-of-technology-and-education/titanic_training' target=\"_blank\">https://wandb.ai/jwdam-korea-university-of-technology-and-education/titanic_training</a><br>Synced 5 W&B file(s), 0 media file(s), 0 artifact file(s) and 0 other file(s)"
      ],
      "text/plain": [
       "<IPython.core.display.HTML object>"
      ]
     },
     "metadata": {},
     "output_type": "display_data"
    },
    {
     "data": {
      "text/html": [
       "Find logs at: <code>.\\wandb\\run-20251010_115507-0uvd843k\\logs</code>"
      ],
      "text/plain": [
       "<IPython.core.display.HTML object>"
      ]
     },
     "metadata": {},
     "output_type": "display_data"
    },
    {
     "data": {
      "text/html": [],
      "text/plain": [
       "<IPython.core.display.HTML object>"
      ]
     },
     "metadata": {},
     "output_type": "display_data"
    },
    {
     "data": {
      "text/html": [
       "Tracking run with wandb version 0.22.1"
      ],
      "text/plain": [
       "<IPython.core.display.HTML object>"
      ]
     },
     "metadata": {},
     "output_type": "display_data"
    },
    {
     "data": {
      "text/html": [
       "Run data is saved locally in <code>C:\\Users\\sjw99\\git\\link_dl\\_04_your_code\\wandb\\run-20251010_115524-grvu1mq1</code>"
      ],
      "text/plain": [
       "<IPython.core.display.HTML object>"
      ]
     },
     "metadata": {},
     "output_type": "display_data"
    },
    {
     "data": {
      "text/html": [
       "Syncing run <strong><a href='https://wandb.ai/jwdam-korea-university-of-technology-and-education/titanic_training/runs/grvu1mq1' target=\"_blank\">titanic_ReLU_bs128_2025-10-10_11-55-24</a></strong> to <a href='https://wandb.ai/jwdam-korea-university-of-technology-and-education/titanic_training' target=\"_blank\">Weights & Biases</a> (<a href='https://wandb.me/developer-guide' target=\"_blank\">docs</a>)<br>"
      ],
      "text/plain": [
       "<IPython.core.display.HTML object>"
      ]
     },
     "metadata": {},
     "output_type": "display_data"
    },
    {
     "data": {
      "text/html": [
       " View project at <a href='https://wandb.ai/jwdam-korea-university-of-technology-and-education/titanic_training' target=\"_blank\">https://wandb.ai/jwdam-korea-university-of-technology-and-education/titanic_training</a>"
      ],
      "text/plain": [
       "<IPython.core.display.HTML object>"
      ]
     },
     "metadata": {},
     "output_type": "display_data"
    },
    {
     "data": {
      "text/html": [
       " View run at <a href='https://wandb.ai/jwdam-korea-university-of-technology-and-education/titanic_training/runs/grvu1mq1' target=\"_blank\">https://wandb.ai/jwdam-korea-university-of-technology-and-education/titanic_training/runs/grvu1mq1</a>"
      ],
      "text/plain": [
       "<IPython.core.display.HTML object>"
      ]
     },
     "metadata": {},
     "output_type": "display_data"
    },
    {
     "name": "stdout",
     "output_type": "stream",
     "text": [
      "Index(['Survived', 'Pclass', 'Sex', 'Age', 'SibSp', 'Parch', 'Fare',\n",
      "       'Embarked', 'title', 'family_num', 'alone'],\n",
      "      dtype='object')\n",
      "   Survived  Pclass  Sex   Age  SibSp  Parch     Fare  Embarked  title  \\\n",
      "0       0.0       3    1  22.0      1      0   7.2500         2      2   \n",
      "1       1.0       1    0  38.0      1      0  71.2833         0      3   \n",
      "2       1.0       3    0  26.0      0      0   7.9250         2      1   \n",
      "3       1.0       1    0  35.0      1      0  53.1000         2      3   \n",
      "4       0.0       3    1  35.0      0      0   8.0500         2      2   \n",
      "5       0.0       3    1  29.0      0      0   8.4583         1      2   \n",
      "6       0.0       1    1  54.0      0      0  51.8625         2      2   \n",
      "7       0.0       3    1   2.0      3      1  21.0750         2      0   \n",
      "8       1.0       3    0  27.0      0      2  11.1333         2      3   \n",
      "9       1.0       2    0  14.0      1      0  30.0708         0      3   \n",
      "\n",
      "   family_num  alone  \n",
      "0           1    0.0  \n",
      "1           1    0.0  \n",
      "2           0    1.0  \n",
      "3           1    0.0  \n",
      "4           0    1.0  \n",
      "5           0    1.0  \n",
      "6           0    1.0  \n",
      "7           4    0.0  \n",
      "8           2    0.0  \n",
      "9           1    0.0  \n",
      "Data Size: 891, Input Shape: torch.Size([891, 10]), Target Shape: torch.Size([891])\n",
      "713 178 418\n",
      "--- ReLU / 128 ---\n",
      "Epoch 100, Training loss 0.5772, Validation loss 0.6050\n",
      "Epoch 200, Training loss 0.5750, Validation loss 0.6030\n",
      "Epoch 300, Training loss 0.5715, Validation loss 0.6011\n",
      "Epoch 400, Training loss 0.5693, Validation loss 0.6000\n",
      "Epoch 500, Training loss 0.5641, Validation loss 0.5981\n",
      "Epoch 600, Training loss 0.5603, Validation loss 0.5961\n",
      "Epoch 700, Training loss 0.5556, Validation loss 0.5935\n",
      "Epoch 800, Training loss 0.5557, Validation loss 0.5914\n",
      "Epoch 900, Training loss 0.5533, Validation loss 0.5899\n",
      "Epoch 1000, Training loss 0.5501, Validation loss 0.5894\n",
      "\n",
      " Finished ReLU / Batch=128\n",
      "WandB URL: https://wandb.ai/jwdam-korea-university-of-technology-and-education/titanic_training/runs/grvu1mq1\n"
     ]
    },
    {
     "data": {
      "text/html": [],
      "text/plain": [
       "<IPython.core.display.HTML object>"
      ]
     },
     "metadata": {},
     "output_type": "display_data"
    },
    {
     "data": {
      "text/html": [
       "<br>    <style><br>        .wandb-row {<br>            display: flex;<br>            flex-direction: row;<br>            flex-wrap: wrap;<br>            justify-content: flex-start;<br>            width: 100%;<br>        }<br>        .wandb-col {<br>            display: flex;<br>            flex-direction: column;<br>            flex-basis: 100%;<br>            flex: 1;<br>            padding: 10px;<br>        }<br>    </style><br><div class=\"wandb-row\"><div class=\"wandb-col\"><h3>Run history:</h3><br/><table class=\"wandb\"><tr><td>Epoch</td><td>▁▁▁▁▁▂▂▂▂▃▃▃▄▄▄▅▅▅▅▅▅▆▆▆▆▆▆▆▇▇▇▇▇▇▇▇████</td></tr><tr><td>Training loss</td><td>█▇▆▇▇▆▇▆▆▆▆▅▅▅▅▅▄▅▄▄▄▄▄▃▃▃▃▂▂▃▃▁▂▃▂▂▁▂▁▂</td></tr><tr><td>Validation loss</td><td>▇▇█▇▇▇▇▇▇▆▆▆▇▆▆▅▅▅▅▅▄▄▄▄▃▄▄▃▃▃▃▄▂▃▂▂▂▂▁▁</td></tr></table><br/></div><div class=\"wandb-col\"><h3>Run summary:</h3><br/><table class=\"wandb\"><tr><td>Epoch</td><td>1000</td></tr><tr><td>Training loss</td><td>0.55013</td></tr><tr><td>Validation loss</td><td>0.58938</td></tr><tr><td>best_val_loss</td><td>0.58683</td></tr></table><br/></div></div>"
      ],
      "text/plain": [
       "<IPython.core.display.HTML object>"
      ]
     },
     "metadata": {},
     "output_type": "display_data"
    },
    {
     "data": {
      "text/html": [
       " View run <strong style=\"color:#cdcd00\">titanic_ReLU_bs128_2025-10-10_11-55-24</strong> at: <a href='https://wandb.ai/jwdam-korea-university-of-technology-and-education/titanic_training/runs/grvu1mq1' target=\"_blank\">https://wandb.ai/jwdam-korea-university-of-technology-and-education/titanic_training/runs/grvu1mq1</a><br> View project at: <a href='https://wandb.ai/jwdam-korea-university-of-technology-and-education/titanic_training' target=\"_blank\">https://wandb.ai/jwdam-korea-university-of-technology-and-education/titanic_training</a><br>Synced 5 W&B file(s), 0 media file(s), 0 artifact file(s) and 0 other file(s)"
      ],
      "text/plain": [
       "<IPython.core.display.HTML object>"
      ]
     },
     "metadata": {},
     "output_type": "display_data"
    },
    {
     "data": {
      "text/html": [
       "Find logs at: <code>.\\wandb\\run-20251010_115524-grvu1mq1\\logs</code>"
      ],
      "text/plain": [
       "<IPython.core.display.HTML object>"
      ]
     },
     "metadata": {},
     "output_type": "display_data"
    },
    {
     "data": {
      "text/html": [],
      "text/plain": [
       "<IPython.core.display.HTML object>"
      ]
     },
     "metadata": {},
     "output_type": "display_data"
    },
    {
     "data": {
      "text/html": [
       "Tracking run with wandb version 0.22.1"
      ],
      "text/plain": [
       "<IPython.core.display.HTML object>"
      ]
     },
     "metadata": {},
     "output_type": "display_data"
    },
    {
     "data": {
      "text/html": [
       "Run data is saved locally in <code>C:\\Users\\sjw99\\git\\link_dl\\_04_your_code\\wandb\\run-20251010_115538-0gt4w0kv</code>"
      ],
      "text/plain": [
       "<IPython.core.display.HTML object>"
      ]
     },
     "metadata": {},
     "output_type": "display_data"
    },
    {
     "data": {
      "text/html": [
       "Syncing run <strong><a href='https://wandb.ai/jwdam-korea-university-of-technology-and-education/titanic_training/runs/0gt4w0kv' target=\"_blank\">titanic_Sigmoid_bs16_2025-10-10_11-55-38</a></strong> to <a href='https://wandb.ai/jwdam-korea-university-of-technology-and-education/titanic_training' target=\"_blank\">Weights & Biases</a> (<a href='https://wandb.me/developer-guide' target=\"_blank\">docs</a>)<br>"
      ],
      "text/plain": [
       "<IPython.core.display.HTML object>"
      ]
     },
     "metadata": {},
     "output_type": "display_data"
    },
    {
     "data": {
      "text/html": [
       " View project at <a href='https://wandb.ai/jwdam-korea-university-of-technology-and-education/titanic_training' target=\"_blank\">https://wandb.ai/jwdam-korea-university-of-technology-and-education/titanic_training</a>"
      ],
      "text/plain": [
       "<IPython.core.display.HTML object>"
      ]
     },
     "metadata": {},
     "output_type": "display_data"
    },
    {
     "data": {
      "text/html": [
       " View run at <a href='https://wandb.ai/jwdam-korea-university-of-technology-and-education/titanic_training/runs/0gt4w0kv' target=\"_blank\">https://wandb.ai/jwdam-korea-university-of-technology-and-education/titanic_training/runs/0gt4w0kv</a>"
      ],
      "text/plain": [
       "<IPython.core.display.HTML object>"
      ]
     },
     "metadata": {},
     "output_type": "display_data"
    },
    {
     "name": "stdout",
     "output_type": "stream",
     "text": [
      "Index(['Survived', 'Pclass', 'Sex', 'Age', 'SibSp', 'Parch', 'Fare',\n",
      "       'Embarked', 'title', 'family_num', 'alone'],\n",
      "      dtype='object')\n",
      "   Survived  Pclass  Sex   Age  SibSp  Parch     Fare  Embarked  title  \\\n",
      "0       0.0       3    1  22.0      1      0   7.2500         2      2   \n",
      "1       1.0       1    0  38.0      1      0  71.2833         0      3   \n",
      "2       1.0       3    0  26.0      0      0   7.9250         2      1   \n",
      "3       1.0       1    0  35.0      1      0  53.1000         2      3   \n",
      "4       0.0       3    1  35.0      0      0   8.0500         2      2   \n",
      "5       0.0       3    1  29.0      0      0   8.4583         1      2   \n",
      "6       0.0       1    1  54.0      0      0  51.8625         2      2   \n",
      "7       0.0       3    1   2.0      3      1  21.0750         2      0   \n",
      "8       1.0       3    0  27.0      0      2  11.1333         2      3   \n",
      "9       1.0       2    0  14.0      1      0  30.0708         0      3   \n",
      "\n",
      "   family_num  alone  \n",
      "0           1    0.0  \n",
      "1           1    0.0  \n",
      "2           0    1.0  \n",
      "3           1    0.0  \n",
      "4           0    1.0  \n",
      "5           0    1.0  \n",
      "6           0    1.0  \n",
      "7           4    0.0  \n",
      "8           2    0.0  \n",
      "9           1    0.0  \n",
      "Data Size: 891, Input Shape: torch.Size([891, 10]), Target Shape: torch.Size([891])\n",
      "713 178 418\n",
      "--- Sigmoid / 16 ---\n",
      "Epoch 100, Training loss 0.6576, Validation loss 0.6590\n",
      "Epoch 200, Training loss 0.6477, Validation loss 0.6471\n",
      "Epoch 300, Training loss 0.6352, Validation loss 0.6341\n",
      "Epoch 400, Training loss 0.6211, Validation loss 0.6213\n",
      "Epoch 500, Training loss 0.6144, Validation loss 0.6111\n",
      "Epoch 600, Training loss 0.6090, Validation loss 0.6044\n",
      "Epoch 700, Training loss 0.6065, Validation loss 0.6002\n",
      "Epoch 800, Training loss 0.6019, Validation loss 0.5970\n",
      "Epoch 900, Training loss 0.6037, Validation loss 0.5942\n",
      "Epoch 1000, Training loss 0.5989, Validation loss 0.5915\n",
      "\n",
      " Finished Sigmoid / Batch=16\n",
      "WandB URL: https://wandb.ai/jwdam-korea-university-of-technology-and-education/titanic_training/runs/0gt4w0kv\n"
     ]
    },
    {
     "data": {
      "text/html": [],
      "text/plain": [
       "<IPython.core.display.HTML object>"
      ]
     },
     "metadata": {},
     "output_type": "display_data"
    },
    {
     "data": {
      "text/html": [
       "<br>    <style><br>        .wandb-row {<br>            display: flex;<br>            flex-direction: row;<br>            flex-wrap: wrap;<br>            justify-content: flex-start;<br>            width: 100%;<br>        }<br>        .wandb-col {<br>            display: flex;<br>            flex-direction: column;<br>            flex-basis: 100%;<br>            flex: 1;<br>            padding: 10px;<br>        }<br>    </style><br><div class=\"wandb-row\"><div class=\"wandb-col\"><h3>Run history:</h3><br/><table class=\"wandb\"><tr><td>Epoch</td><td>▁▁▁▁▁▁▂▂▂▂▂▂▃▃▃▃▄▄▄▄▄▄▄▄▄▅▅▆▆▆▆▆▆▆▆▇▇▇██</td></tr><tr><td>Training loss</td><td>███▇▇▆▆▆▆▅▄▄▃▃▃▃▃▂▂▂▂▂▂▂▂▂▂▂▂▂▂▁▂▁▁▁▁▁▁▁</td></tr><tr><td>Validation loss</td><td>███▇▇▇▇▇▆▆▅▅▅▅▄▄▄▄▄▃▃▃▂▂▂▂▂▂▂▂▂▂▂▂▂▁▁▁▁▁</td></tr></table><br/></div><div class=\"wandb-col\"><h3>Run summary:</h3><br/><table class=\"wandb\"><tr><td>Epoch</td><td>1000</td></tr><tr><td>Training loss</td><td>0.59886</td></tr><tr><td>Validation loss</td><td>0.59149</td></tr><tr><td>best_val_loss</td><td>0.59149</td></tr></table><br/></div></div>"
      ],
      "text/plain": [
       "<IPython.core.display.HTML object>"
      ]
     },
     "metadata": {},
     "output_type": "display_data"
    },
    {
     "data": {
      "text/html": [
       " View run <strong style=\"color:#cdcd00\">titanic_Sigmoid_bs16_2025-10-10_11-55-38</strong> at: <a href='https://wandb.ai/jwdam-korea-university-of-technology-and-education/titanic_training/runs/0gt4w0kv' target=\"_blank\">https://wandb.ai/jwdam-korea-university-of-technology-and-education/titanic_training/runs/0gt4w0kv</a><br> View project at: <a href='https://wandb.ai/jwdam-korea-university-of-technology-and-education/titanic_training' target=\"_blank\">https://wandb.ai/jwdam-korea-university-of-technology-and-education/titanic_training</a><br>Synced 5 W&B file(s), 0 media file(s), 0 artifact file(s) and 0 other file(s)"
      ],
      "text/plain": [
       "<IPython.core.display.HTML object>"
      ]
     },
     "metadata": {},
     "output_type": "display_data"
    },
    {
     "data": {
      "text/html": [
       "Find logs at: <code>.\\wandb\\run-20251010_115538-0gt4w0kv\\logs</code>"
      ],
      "text/plain": [
       "<IPython.core.display.HTML object>"
      ]
     },
     "metadata": {},
     "output_type": "display_data"
    },
    {
     "data": {
      "text/html": [],
      "text/plain": [
       "<IPython.core.display.HTML object>"
      ]
     },
     "metadata": {},
     "output_type": "display_data"
    },
    {
     "data": {
      "text/html": [
       "Tracking run with wandb version 0.22.1"
      ],
      "text/plain": [
       "<IPython.core.display.HTML object>"
      ]
     },
     "metadata": {},
     "output_type": "display_data"
    },
    {
     "data": {
      "text/html": [
       "Run data is saved locally in <code>C:\\Users\\sjw99\\git\\link_dl\\_04_your_code\\wandb\\run-20251010_115615-86articy</code>"
      ],
      "text/plain": [
       "<IPython.core.display.HTML object>"
      ]
     },
     "metadata": {},
     "output_type": "display_data"
    },
    {
     "data": {
      "text/html": [
       "Syncing run <strong><a href='https://wandb.ai/jwdam-korea-university-of-technology-and-education/titanic_training/runs/86articy' target=\"_blank\">titanic_Sigmoid_bs32_2025-10-10_11-56-15</a></strong> to <a href='https://wandb.ai/jwdam-korea-university-of-technology-and-education/titanic_training' target=\"_blank\">Weights & Biases</a> (<a href='https://wandb.me/developer-guide' target=\"_blank\">docs</a>)<br>"
      ],
      "text/plain": [
       "<IPython.core.display.HTML object>"
      ]
     },
     "metadata": {},
     "output_type": "display_data"
    },
    {
     "data": {
      "text/html": [
       " View project at <a href='https://wandb.ai/jwdam-korea-university-of-technology-and-education/titanic_training' target=\"_blank\">https://wandb.ai/jwdam-korea-university-of-technology-and-education/titanic_training</a>"
      ],
      "text/plain": [
       "<IPython.core.display.HTML object>"
      ]
     },
     "metadata": {},
     "output_type": "display_data"
    },
    {
     "data": {
      "text/html": [
       " View run at <a href='https://wandb.ai/jwdam-korea-university-of-technology-and-education/titanic_training/runs/86articy' target=\"_blank\">https://wandb.ai/jwdam-korea-university-of-technology-and-education/titanic_training/runs/86articy</a>"
      ],
      "text/plain": [
       "<IPython.core.display.HTML object>"
      ]
     },
     "metadata": {},
     "output_type": "display_data"
    },
    {
     "name": "stdout",
     "output_type": "stream",
     "text": [
      "Index(['Survived', 'Pclass', 'Sex', 'Age', 'SibSp', 'Parch', 'Fare',\n",
      "       'Embarked', 'title', 'family_num', 'alone'],\n",
      "      dtype='object')\n",
      "   Survived  Pclass  Sex   Age  SibSp  Parch     Fare  Embarked  title  \\\n",
      "0       0.0       3    1  22.0      1      0   7.2500         2      2   \n",
      "1       1.0       1    0  38.0      1      0  71.2833         0      3   \n",
      "2       1.0       3    0  26.0      0      0   7.9250         2      1   \n",
      "3       1.0       1    0  35.0      1      0  53.1000         2      3   \n",
      "4       0.0       3    1  35.0      0      0   8.0500         2      2   \n",
      "5       0.0       3    1  29.0      0      0   8.4583         1      2   \n",
      "6       0.0       1    1  54.0      0      0  51.8625         2      2   \n",
      "7       0.0       3    1   2.0      3      1  21.0750         2      0   \n",
      "8       1.0       3    0  27.0      0      2  11.1333         2      3   \n",
      "9       1.0       2    0  14.0      1      0  30.0708         0      3   \n",
      "\n",
      "   family_num  alone  \n",
      "0           1    0.0  \n",
      "1           1    0.0  \n",
      "2           0    1.0  \n",
      "3           1    0.0  \n",
      "4           0    1.0  \n",
      "5           0    1.0  \n",
      "6           0    1.0  \n",
      "7           4    0.0  \n",
      "8           2    0.0  \n",
      "9           1    0.0  \n",
      "Data Size: 891, Input Shape: torch.Size([891, 10]), Target Shape: torch.Size([891])\n",
      "713 178 418\n",
      "--- Sigmoid / 32 ---\n",
      "Epoch 100, Training loss 0.6593, Validation loss 0.6457\n",
      "Epoch 200, Training loss 0.6586, Validation loss 0.6410\n",
      "Epoch 300, Training loss 0.6547, Validation loss 0.6366\n",
      "Epoch 400, Training loss 0.6526, Validation loss 0.6317\n",
      "Epoch 500, Training loss 0.6486, Validation loss 0.6261\n",
      "Epoch 600, Training loss 0.6442, Validation loss 0.6203\n",
      "Epoch 700, Training loss 0.6400, Validation loss 0.6144\n",
      "Epoch 800, Training loss 0.6338, Validation loss 0.6083\n",
      "Epoch 900, Training loss 0.6296, Validation loss 0.6023\n",
      "Epoch 1000, Training loss 0.6242, Validation loss 0.5963\n",
      "\n",
      " Finished Sigmoid / Batch=32\n",
      "WandB URL: https://wandb.ai/jwdam-korea-university-of-technology-and-education/titanic_training/runs/86articy\n"
     ]
    },
    {
     "data": {
      "text/html": [],
      "text/plain": [
       "<IPython.core.display.HTML object>"
      ]
     },
     "metadata": {},
     "output_type": "display_data"
    },
    {
     "data": {
      "text/html": [
       "<br>    <style><br>        .wandb-row {<br>            display: flex;<br>            flex-direction: row;<br>            flex-wrap: wrap;<br>            justify-content: flex-start;<br>            width: 100%;<br>        }<br>        .wandb-col {<br>            display: flex;<br>            flex-direction: column;<br>            flex-basis: 100%;<br>            flex: 1;<br>            padding: 10px;<br>        }<br>    </style><br><div class=\"wandb-row\"><div class=\"wandb-col\"><h3>Run history:</h3><br/><table class=\"wandb\"><tr><td>Epoch</td><td>▁▁▁▁▂▂▂▂▂▃▃▃▃▃▃▃▃▃▃▄▄▄▅▅▅▅▅▅▆▆▆▆▇▇▇▇▇███</td></tr><tr><td>Training loss</td><td>█▇██▇▇▇▇▇▇▆▆▆▆▆▆▅▅▅▄▅▅▄▄▅▄▅▃▃▃▃▄▃▂▂▂▂▃▂▁</td></tr><tr><td>Validation loss</td><td>██▆▅▅▅▅▅▅▅▅▄▄▄▄▄▄▄▄▄▄▃▃▃▃▃▃▃▃▂▂▂▂▂▂▂▁▁▁▁</td></tr></table><br/></div><div class=\"wandb-col\"><h3>Run summary:</h3><br/><table class=\"wandb\"><tr><td>Epoch</td><td>1000</td></tr><tr><td>Training loss</td><td>0.62419</td></tr><tr><td>Validation loss</td><td>0.59632</td></tr><tr><td>best_val_loss</td><td>0.59632</td></tr></table><br/></div></div>"
      ],
      "text/plain": [
       "<IPython.core.display.HTML object>"
      ]
     },
     "metadata": {},
     "output_type": "display_data"
    },
    {
     "data": {
      "text/html": [
       " View run <strong style=\"color:#cdcd00\">titanic_Sigmoid_bs32_2025-10-10_11-56-15</strong> at: <a href='https://wandb.ai/jwdam-korea-university-of-technology-and-education/titanic_training/runs/86articy' target=\"_blank\">https://wandb.ai/jwdam-korea-university-of-technology-and-education/titanic_training/runs/86articy</a><br> View project at: <a href='https://wandb.ai/jwdam-korea-university-of-technology-and-education/titanic_training' target=\"_blank\">https://wandb.ai/jwdam-korea-university-of-technology-and-education/titanic_training</a><br>Synced 5 W&B file(s), 0 media file(s), 0 artifact file(s) and 0 other file(s)"
      ],
      "text/plain": [
       "<IPython.core.display.HTML object>"
      ]
     },
     "metadata": {},
     "output_type": "display_data"
    },
    {
     "data": {
      "text/html": [
       "Find logs at: <code>.\\wandb\\run-20251010_115615-86articy\\logs</code>"
      ],
      "text/plain": [
       "<IPython.core.display.HTML object>"
      ]
     },
     "metadata": {},
     "output_type": "display_data"
    },
    {
     "data": {
      "text/html": [],
      "text/plain": [
       "<IPython.core.display.HTML object>"
      ]
     },
     "metadata": {},
     "output_type": "display_data"
    },
    {
     "data": {
      "text/html": [
       "Tracking run with wandb version 0.22.1"
      ],
      "text/plain": [
       "<IPython.core.display.HTML object>"
      ]
     },
     "metadata": {},
     "output_type": "display_data"
    },
    {
     "data": {
      "text/html": [
       "Run data is saved locally in <code>C:\\Users\\sjw99\\git\\link_dl\\_04_your_code\\wandb\\run-20251010_115640-of3apzgl</code>"
      ],
      "text/plain": [
       "<IPython.core.display.HTML object>"
      ]
     },
     "metadata": {},
     "output_type": "display_data"
    },
    {
     "data": {
      "text/html": [
       "Syncing run <strong><a href='https://wandb.ai/jwdam-korea-university-of-technology-and-education/titanic_training/runs/of3apzgl' target=\"_blank\">titanic_Sigmoid_bs64_2025-10-10_11-56-40</a></strong> to <a href='https://wandb.ai/jwdam-korea-university-of-technology-and-education/titanic_training' target=\"_blank\">Weights & Biases</a> (<a href='https://wandb.me/developer-guide' target=\"_blank\">docs</a>)<br>"
      ],
      "text/plain": [
       "<IPython.core.display.HTML object>"
      ]
     },
     "metadata": {},
     "output_type": "display_data"
    },
    {
     "data": {
      "text/html": [
       " View project at <a href='https://wandb.ai/jwdam-korea-university-of-technology-and-education/titanic_training' target=\"_blank\">https://wandb.ai/jwdam-korea-university-of-technology-and-education/titanic_training</a>"
      ],
      "text/plain": [
       "<IPython.core.display.HTML object>"
      ]
     },
     "metadata": {},
     "output_type": "display_data"
    },
    {
     "data": {
      "text/html": [
       " View run at <a href='https://wandb.ai/jwdam-korea-university-of-technology-and-education/titanic_training/runs/of3apzgl' target=\"_blank\">https://wandb.ai/jwdam-korea-university-of-technology-and-education/titanic_training/runs/of3apzgl</a>"
      ],
      "text/plain": [
       "<IPython.core.display.HTML object>"
      ]
     },
     "metadata": {},
     "output_type": "display_data"
    },
    {
     "name": "stdout",
     "output_type": "stream",
     "text": [
      "Index(['Survived', 'Pclass', 'Sex', 'Age', 'SibSp', 'Parch', 'Fare',\n",
      "       'Embarked', 'title', 'family_num', 'alone'],\n",
      "      dtype='object')\n",
      "   Survived  Pclass  Sex   Age  SibSp  Parch     Fare  Embarked  title  \\\n",
      "0       0.0       3    1  22.0      1      0   7.2500         2      2   \n",
      "1       1.0       1    0  38.0      1      0  71.2833         0      3   \n",
      "2       1.0       3    0  26.0      0      0   7.9250         2      1   \n",
      "3       1.0       1    0  35.0      1      0  53.1000         2      3   \n",
      "4       0.0       3    1  35.0      0      0   8.0500         2      2   \n",
      "5       0.0       3    1  29.0      0      0   8.4583         1      2   \n",
      "6       0.0       1    1  54.0      0      0  51.8625         2      2   \n",
      "7       0.0       3    1   2.0      3      1  21.0750         2      0   \n",
      "8       1.0       3    0  27.0      0      2  11.1333         2      3   \n",
      "9       1.0       2    0  14.0      1      0  30.0708         0      3   \n",
      "\n",
      "   family_num  alone  \n",
      "0           1    0.0  \n",
      "1           1    0.0  \n",
      "2           0    1.0  \n",
      "3           1    0.0  \n",
      "4           0    1.0  \n",
      "5           0    1.0  \n",
      "6           0    1.0  \n",
      "7           4    0.0  \n",
      "8           2    0.0  \n",
      "9           1    0.0  \n",
      "Data Size: 891, Input Shape: torch.Size([891, 10]), Target Shape: torch.Size([891])\n",
      "713 178 418\n",
      "--- Sigmoid / 64 ---\n",
      "Epoch 100, Training loss 0.6746, Validation loss 0.6737\n",
      "Epoch 200, Training loss 0.6688, Validation loss 0.6717\n",
      "Epoch 300, Training loss 0.6639, Validation loss 0.6704\n",
      "Epoch 400, Training loss 0.6613, Validation loss 0.6690\n",
      "Epoch 500, Training loss 0.6560, Validation loss 0.6674\n",
      "Epoch 600, Training loss 0.6613, Validation loss 0.6658\n",
      "Epoch 700, Training loss 0.6611, Validation loss 0.6639\n",
      "Epoch 800, Training loss 0.6457, Validation loss 0.6622\n",
      "Epoch 900, Training loss 0.6510, Validation loss 0.6604\n",
      "Epoch 1000, Training loss 0.6496, Validation loss 0.6581\n",
      "\n",
      " Finished Sigmoid / Batch=64\n",
      "WandB URL: https://wandb.ai/jwdam-korea-university-of-technology-and-education/titanic_training/runs/of3apzgl\n"
     ]
    },
    {
     "data": {
      "text/html": [],
      "text/plain": [
       "<IPython.core.display.HTML object>"
      ]
     },
     "metadata": {},
     "output_type": "display_data"
    },
    {
     "data": {
      "text/html": [
       "<br>    <style><br>        .wandb-row {<br>            display: flex;<br>            flex-direction: row;<br>            flex-wrap: wrap;<br>            justify-content: flex-start;<br>            width: 100%;<br>        }<br>        .wandb-col {<br>            display: flex;<br>            flex-direction: column;<br>            flex-basis: 100%;<br>            flex: 1;<br>            padding: 10px;<br>        }<br>    </style><br><div class=\"wandb-row\"><div class=\"wandb-col\"><h3>Run history:</h3><br/><table class=\"wandb\"><tr><td>Epoch</td><td>▁▁▁▂▂▃▃▃▃▃▃▃▃▃▄▄▄▄▄▄▅▅▆▆▆▆▆▇▇▇▇▇▇▇▇▇████</td></tr><tr><td>Training loss</td><td>██▆▄▄▄▄▃▃▃▃▂▄▄▂▂▂▃▂▃▃▂▂▃▃▃▂▂▁▁▂▂▂▁▁▂▂▂▂▁</td></tr><tr><td>Validation loss</td><td>███▇▆▄▄▄▄▄▄▄▄▄▄▄▄▄▃▃▃▃▃▃▃▃▂▂▂▂▂▂▂▂▂▁▁▁▁▁</td></tr></table><br/></div><div class=\"wandb-col\"><h3>Run summary:</h3><br/><table class=\"wandb\"><tr><td>Epoch</td><td>1000</td></tr><tr><td>Training loss</td><td>0.64961</td></tr><tr><td>Validation loss</td><td>0.6581</td></tr><tr><td>best_val_loss</td><td>0.6581</td></tr></table><br/></div></div>"
      ],
      "text/plain": [
       "<IPython.core.display.HTML object>"
      ]
     },
     "metadata": {},
     "output_type": "display_data"
    },
    {
     "data": {
      "text/html": [
       " View run <strong style=\"color:#cdcd00\">titanic_Sigmoid_bs64_2025-10-10_11-56-40</strong> at: <a href='https://wandb.ai/jwdam-korea-university-of-technology-and-education/titanic_training/runs/of3apzgl' target=\"_blank\">https://wandb.ai/jwdam-korea-university-of-technology-and-education/titanic_training/runs/of3apzgl</a><br> View project at: <a href='https://wandb.ai/jwdam-korea-university-of-technology-and-education/titanic_training' target=\"_blank\">https://wandb.ai/jwdam-korea-university-of-technology-and-education/titanic_training</a><br>Synced 5 W&B file(s), 0 media file(s), 0 artifact file(s) and 0 other file(s)"
      ],
      "text/plain": [
       "<IPython.core.display.HTML object>"
      ]
     },
     "metadata": {},
     "output_type": "display_data"
    },
    {
     "data": {
      "text/html": [
       "Find logs at: <code>.\\wandb\\run-20251010_115640-of3apzgl\\logs</code>"
      ],
      "text/plain": [
       "<IPython.core.display.HTML object>"
      ]
     },
     "metadata": {},
     "output_type": "display_data"
    },
    {
     "data": {
      "text/html": [],
      "text/plain": [
       "<IPython.core.display.HTML object>"
      ]
     },
     "metadata": {},
     "output_type": "display_data"
    },
    {
     "data": {
      "text/html": [
       "Tracking run with wandb version 0.22.1"
      ],
      "text/plain": [
       "<IPython.core.display.HTML object>"
      ]
     },
     "metadata": {},
     "output_type": "display_data"
    },
    {
     "data": {
      "text/html": [
       "Run data is saved locally in <code>C:\\Users\\sjw99\\git\\link_dl\\_04_your_code\\wandb\\run-20251010_115657-fe9m87go</code>"
      ],
      "text/plain": [
       "<IPython.core.display.HTML object>"
      ]
     },
     "metadata": {},
     "output_type": "display_data"
    },
    {
     "data": {
      "text/html": [
       "Syncing run <strong><a href='https://wandb.ai/jwdam-korea-university-of-technology-and-education/titanic_training/runs/fe9m87go' target=\"_blank\">titanic_Sigmoid_bs128_2025-10-10_11-56-57</a></strong> to <a href='https://wandb.ai/jwdam-korea-university-of-technology-and-education/titanic_training' target=\"_blank\">Weights & Biases</a> (<a href='https://wandb.me/developer-guide' target=\"_blank\">docs</a>)<br>"
      ],
      "text/plain": [
       "<IPython.core.display.HTML object>"
      ]
     },
     "metadata": {},
     "output_type": "display_data"
    },
    {
     "data": {
      "text/html": [
       " View project at <a href='https://wandb.ai/jwdam-korea-university-of-technology-and-education/titanic_training' target=\"_blank\">https://wandb.ai/jwdam-korea-university-of-technology-and-education/titanic_training</a>"
      ],
      "text/plain": [
       "<IPython.core.display.HTML object>"
      ]
     },
     "metadata": {},
     "output_type": "display_data"
    },
    {
     "data": {
      "text/html": [
       " View run at <a href='https://wandb.ai/jwdam-korea-university-of-technology-and-education/titanic_training/runs/fe9m87go' target=\"_blank\">https://wandb.ai/jwdam-korea-university-of-technology-and-education/titanic_training/runs/fe9m87go</a>"
      ],
      "text/plain": [
       "<IPython.core.display.HTML object>"
      ]
     },
     "metadata": {},
     "output_type": "display_data"
    },
    {
     "name": "stdout",
     "output_type": "stream",
     "text": [
      "Index(['Survived', 'Pclass', 'Sex', 'Age', 'SibSp', 'Parch', 'Fare',\n",
      "       'Embarked', 'title', 'family_num', 'alone'],\n",
      "      dtype='object')\n",
      "   Survived  Pclass  Sex   Age  SibSp  Parch     Fare  Embarked  title  \\\n",
      "0       0.0       3    1  22.0      1      0   7.2500         2      2   \n",
      "1       1.0       1    0  38.0      1      0  71.2833         0      3   \n",
      "2       1.0       3    0  26.0      0      0   7.9250         2      1   \n",
      "3       1.0       1    0  35.0      1      0  53.1000         2      3   \n",
      "4       0.0       3    1  35.0      0      0   8.0500         2      2   \n",
      "5       0.0       3    1  29.0      0      0   8.4583         1      2   \n",
      "6       0.0       1    1  54.0      0      0  51.8625         2      2   \n",
      "7       0.0       3    1   2.0      3      1  21.0750         2      0   \n",
      "8       1.0       3    0  27.0      0      2  11.1333         2      3   \n",
      "9       1.0       2    0  14.0      1      0  30.0708         0      3   \n",
      "\n",
      "   family_num  alone  \n",
      "0           1    0.0  \n",
      "1           1    0.0  \n",
      "2           0    1.0  \n",
      "3           1    0.0  \n",
      "4           0    1.0  \n",
      "5           0    1.0  \n",
      "6           0    1.0  \n",
      "7           4    0.0  \n",
      "8           2    0.0  \n",
      "9           1    0.0  \n",
      "Data Size: 891, Input Shape: torch.Size([891, 10]), Target Shape: torch.Size([891])\n",
      "713 178 418\n",
      "--- Sigmoid / 128 ---\n",
      "Epoch 100, Training loss 0.6688, Validation loss 0.6590\n",
      "Epoch 200, Training loss 0.6703, Validation loss 0.6575\n",
      "Epoch 300, Training loss 0.6698, Validation loss 0.6564\n",
      "Epoch 400, Training loss 0.6712, Validation loss 0.6556\n",
      "Epoch 500, Training loss 0.6673, Validation loss 0.6548\n",
      "Epoch 600, Training loss 0.6674, Validation loss 0.6541\n",
      "Epoch 700, Training loss 0.6713, Validation loss 0.6533\n",
      "Epoch 800, Training loss 0.6657, Validation loss 0.6525\n",
      "Epoch 900, Training loss 0.6658, Validation loss 0.6517\n",
      "Epoch 1000, Training loss 0.6632, Validation loss 0.6509\n",
      "\n",
      " Finished Sigmoid / Batch=128\n",
      "WandB URL: https://wandb.ai/jwdam-korea-university-of-technology-and-education/titanic_training/runs/fe9m87go\n"
     ]
    },
    {
     "data": {
      "text/html": [],
      "text/plain": [
       "<IPython.core.display.HTML object>"
      ]
     },
     "metadata": {},
     "output_type": "display_data"
    },
    {
     "data": {
      "text/html": [
       "<br>    <style><br>        .wandb-row {<br>            display: flex;<br>            flex-direction: row;<br>            flex-wrap: wrap;<br>            justify-content: flex-start;<br>            width: 100%;<br>        }<br>        .wandb-col {<br>            display: flex;<br>            flex-direction: column;<br>            flex-basis: 100%;<br>            flex: 1;<br>            padding: 10px;<br>        }<br>    </style><br><div class=\"wandb-row\"><div class=\"wandb-col\"><h3>Run history:</h3><br/><table class=\"wandb\"><tr><td>Epoch</td><td>▁▂▂▂▂▃▃▃▃▃▃▃▃▃▃▃▄▄▄▄▄▄▅▅▅▆▆▆▆▆▆▆▆▇▇▇▇███</td></tr><tr><td>Training loss</td><td>▆▇▇█▇▆▆▆▅▄▅▅▅▅▅▅▄▆▆▄▅▅▄▂▄▃▄▄▄▄▂▁▄▂▃▂▃▁▃▃</td></tr><tr><td>Validation loss</td><td>█▇▇▆▆▅▅▅▅▅▅▅▄▄▄▄▄▄▄▄▄▃▃▃▃▃▃▃▃▃▂▂▂▂▂▂▁▁▁▁</td></tr></table><br/></div><div class=\"wandb-col\"><h3>Run summary:</h3><br/><table class=\"wandb\"><tr><td>Epoch</td><td>1000</td></tr><tr><td>Training loss</td><td>0.66323</td></tr><tr><td>Validation loss</td><td>0.65093</td></tr><tr><td>best_val_loss</td><td>0.65093</td></tr></table><br/></div></div>"
      ],
      "text/plain": [
       "<IPython.core.display.HTML object>"
      ]
     },
     "metadata": {},
     "output_type": "display_data"
    },
    {
     "data": {
      "text/html": [
       " View run <strong style=\"color:#cdcd00\">titanic_Sigmoid_bs128_2025-10-10_11-56-57</strong> at: <a href='https://wandb.ai/jwdam-korea-university-of-technology-and-education/titanic_training/runs/fe9m87go' target=\"_blank\">https://wandb.ai/jwdam-korea-university-of-technology-and-education/titanic_training/runs/fe9m87go</a><br> View project at: <a href='https://wandb.ai/jwdam-korea-university-of-technology-and-education/titanic_training' target=\"_blank\">https://wandb.ai/jwdam-korea-university-of-technology-and-education/titanic_training</a><br>Synced 5 W&B file(s), 0 media file(s), 0 artifact file(s) and 0 other file(s)"
      ],
      "text/plain": [
       "<IPython.core.display.HTML object>"
      ]
     },
     "metadata": {},
     "output_type": "display_data"
    },
    {
     "data": {
      "text/html": [
       "Find logs at: <code>.\\wandb\\run-20251010_115657-fe9m87go\\logs</code>"
      ],
      "text/plain": [
       "<IPython.core.display.HTML object>"
      ]
     },
     "metadata": {},
     "output_type": "display_data"
    },
    {
     "data": {
      "text/html": [],
      "text/plain": [
       "<IPython.core.display.HTML object>"
      ]
     },
     "metadata": {},
     "output_type": "display_data"
    },
    {
     "data": {
      "text/html": [
       "Tracking run with wandb version 0.22.1"
      ],
      "text/plain": [
       "<IPython.core.display.HTML object>"
      ]
     },
     "metadata": {},
     "output_type": "display_data"
    },
    {
     "data": {
      "text/html": [
       "Run data is saved locally in <code>C:\\Users\\sjw99\\git\\link_dl\\_04_your_code\\wandb\\run-20251010_115711-280hr8va</code>"
      ],
      "text/plain": [
       "<IPython.core.display.HTML object>"
      ]
     },
     "metadata": {},
     "output_type": "display_data"
    },
    {
     "data": {
      "text/html": [
       "Syncing run <strong><a href='https://wandb.ai/jwdam-korea-university-of-technology-and-education/titanic_training/runs/280hr8va' target=\"_blank\">titanic_ELU_bs16_2025-10-10_11-57-11</a></strong> to <a href='https://wandb.ai/jwdam-korea-university-of-technology-and-education/titanic_training' target=\"_blank\">Weights & Biases</a> (<a href='https://wandb.me/developer-guide' target=\"_blank\">docs</a>)<br>"
      ],
      "text/plain": [
       "<IPython.core.display.HTML object>"
      ]
     },
     "metadata": {},
     "output_type": "display_data"
    },
    {
     "data": {
      "text/html": [
       " View project at <a href='https://wandb.ai/jwdam-korea-university-of-technology-and-education/titanic_training' target=\"_blank\">https://wandb.ai/jwdam-korea-university-of-technology-and-education/titanic_training</a>"
      ],
      "text/plain": [
       "<IPython.core.display.HTML object>"
      ]
     },
     "metadata": {},
     "output_type": "display_data"
    },
    {
     "data": {
      "text/html": [
       " View run at <a href='https://wandb.ai/jwdam-korea-university-of-technology-and-education/titanic_training/runs/280hr8va' target=\"_blank\">https://wandb.ai/jwdam-korea-university-of-technology-and-education/titanic_training/runs/280hr8va</a>"
      ],
      "text/plain": [
       "<IPython.core.display.HTML object>"
      ]
     },
     "metadata": {},
     "output_type": "display_data"
    },
    {
     "name": "stdout",
     "output_type": "stream",
     "text": [
      "Index(['Survived', 'Pclass', 'Sex', 'Age', 'SibSp', 'Parch', 'Fare',\n",
      "       'Embarked', 'title', 'family_num', 'alone'],\n",
      "      dtype='object')\n",
      "   Survived  Pclass  Sex   Age  SibSp  Parch     Fare  Embarked  title  \\\n",
      "0       0.0       3    1  22.0      1      0   7.2500         2      2   \n",
      "1       1.0       1    0  38.0      1      0  71.2833         0      3   \n",
      "2       1.0       3    0  26.0      0      0   7.9250         2      1   \n",
      "3       1.0       1    0  35.0      1      0  53.1000         2      3   \n",
      "4       0.0       3    1  35.0      0      0   8.0500         2      2   \n",
      "5       0.0       3    1  29.0      0      0   8.4583         1      2   \n",
      "6       0.0       1    1  54.0      0      0  51.8625         2      2   \n",
      "7       0.0       3    1   2.0      3      1  21.0750         2      0   \n",
      "8       1.0       3    0  27.0      0      2  11.1333         2      3   \n",
      "9       1.0       2    0  14.0      1      0  30.0708         0      3   \n",
      "\n",
      "   family_num  alone  \n",
      "0           1    0.0  \n",
      "1           1    0.0  \n",
      "2           0    1.0  \n",
      "3           1    0.0  \n",
      "4           0    1.0  \n",
      "5           0    1.0  \n",
      "6           0    1.0  \n",
      "7           4    0.0  \n",
      "8           2    0.0  \n",
      "9           1    0.0  \n",
      "Data Size: 891, Input Shape: torch.Size([891, 10]), Target Shape: torch.Size([891])\n",
      "713 178 418\n",
      "--- ELU / 16 ---\n",
      "Epoch 100, Training loss 0.5808, Validation loss 0.5189\n",
      "Epoch 200, Training loss 0.5631, Validation loss 0.4948\n",
      "Epoch 300, Training loss 0.5303, Validation loss 0.4631\n",
      "Epoch 400, Training loss 0.5078, Validation loss 0.4611\n",
      "Epoch 500, Training loss 0.4948, Validation loss 0.4364\n",
      "Epoch 600, Training loss 0.4613, Validation loss 0.4773\n",
      "Epoch 700, Training loss 0.4627, Validation loss 0.3979\n",
      "Epoch 800, Training loss 0.4482, Validation loss 0.3820\n",
      "Epoch 900, Training loss 0.4655, Validation loss 0.3862\n",
      "Epoch 1000, Training loss 0.4519, Validation loss 0.4001\n",
      "\n",
      " Finished ELU / Batch=16\n",
      "WandB URL: https://wandb.ai/jwdam-korea-university-of-technology-and-education/titanic_training/runs/280hr8va\n"
     ]
    },
    {
     "data": {
      "text/html": [],
      "text/plain": [
       "<IPython.core.display.HTML object>"
      ]
     },
     "metadata": {},
     "output_type": "display_data"
    },
    {
     "data": {
      "text/html": [
       "<br>    <style><br>        .wandb-row {<br>            display: flex;<br>            flex-direction: row;<br>            flex-wrap: wrap;<br>            justify-content: flex-start;<br>            width: 100%;<br>        }<br>        .wandb-col {<br>            display: flex;<br>            flex-direction: column;<br>            flex-basis: 100%;<br>            flex: 1;<br>            padding: 10px;<br>        }<br>    </style><br><div class=\"wandb-row\"><div class=\"wandb-col\"><h3>Run history:</h3><br/><table class=\"wandb\"><tr><td>Epoch</td><td>▁▁▁▁▁▂▂▂▂▂▂▂▂▂▂▂▂▃▃▃▃▄▄▄▄▅▅▅▅▅▆▆▆▇▇▇▇▇██</td></tr><tr><td>Training loss</td><td>█▆▅▅▅▅▅▅▅▅▄▄▄▃▃▄▃▃▃▃▂▂▂▁▂▂▂▂▂▁▁▁▁▁▁▁▁▁▁▁</td></tr><tr><td>Validation loss</td><td>█▇▅▆▅▅▅▅▄▄▄▄▄▄▄▄▄▃▄▃▅▃▃▃▁▂▂▁▃█▃▁▁▁▁▂▁▃▁▂</td></tr></table><br/></div><div class=\"wandb-col\"><h3>Run summary:</h3><br/><table class=\"wandb\"><tr><td>Epoch</td><td>1000</td></tr><tr><td>Training loss</td><td>0.4519</td></tr><tr><td>Validation loss</td><td>0.40014</td></tr><tr><td>best_val_loss</td><td>0.37108</td></tr></table><br/></div></div>"
      ],
      "text/plain": [
       "<IPython.core.display.HTML object>"
      ]
     },
     "metadata": {},
     "output_type": "display_data"
    },
    {
     "data": {
      "text/html": [
       " View run <strong style=\"color:#cdcd00\">titanic_ELU_bs16_2025-10-10_11-57-11</strong> at: <a href='https://wandb.ai/jwdam-korea-university-of-technology-and-education/titanic_training/runs/280hr8va' target=\"_blank\">https://wandb.ai/jwdam-korea-university-of-technology-and-education/titanic_training/runs/280hr8va</a><br> View project at: <a href='https://wandb.ai/jwdam-korea-university-of-technology-and-education/titanic_training' target=\"_blank\">https://wandb.ai/jwdam-korea-university-of-technology-and-education/titanic_training</a><br>Synced 5 W&B file(s), 0 media file(s), 0 artifact file(s) and 0 other file(s)"
      ],
      "text/plain": [
       "<IPython.core.display.HTML object>"
      ]
     },
     "metadata": {},
     "output_type": "display_data"
    },
    {
     "data": {
      "text/html": [
       "Find logs at: <code>.\\wandb\\run-20251010_115711-280hr8va\\logs</code>"
      ],
      "text/plain": [
       "<IPython.core.display.HTML object>"
      ]
     },
     "metadata": {},
     "output_type": "display_data"
    },
    {
     "data": {
      "text/html": [],
      "text/plain": [
       "<IPython.core.display.HTML object>"
      ]
     },
     "metadata": {},
     "output_type": "display_data"
    },
    {
     "data": {
      "text/html": [
       "Tracking run with wandb version 0.22.1"
      ],
      "text/plain": [
       "<IPython.core.display.HTML object>"
      ]
     },
     "metadata": {},
     "output_type": "display_data"
    },
    {
     "data": {
      "text/html": [
       "Run data is saved locally in <code>C:\\Users\\sjw99\\git\\link_dl\\_04_your_code\\wandb\\run-20251010_115750-3vd2q1wj</code>"
      ],
      "text/plain": [
       "<IPython.core.display.HTML object>"
      ]
     },
     "metadata": {},
     "output_type": "display_data"
    },
    {
     "data": {
      "text/html": [
       "Syncing run <strong><a href='https://wandb.ai/jwdam-korea-university-of-technology-and-education/titanic_training/runs/3vd2q1wj' target=\"_blank\">titanic_ELU_bs32_2025-10-10_11-57-50</a></strong> to <a href='https://wandb.ai/jwdam-korea-university-of-technology-and-education/titanic_training' target=\"_blank\">Weights & Biases</a> (<a href='https://wandb.me/developer-guide' target=\"_blank\">docs</a>)<br>"
      ],
      "text/plain": [
       "<IPython.core.display.HTML object>"
      ]
     },
     "metadata": {},
     "output_type": "display_data"
    },
    {
     "data": {
      "text/html": [
       " View project at <a href='https://wandb.ai/jwdam-korea-university-of-technology-and-education/titanic_training' target=\"_blank\">https://wandb.ai/jwdam-korea-university-of-technology-and-education/titanic_training</a>"
      ],
      "text/plain": [
       "<IPython.core.display.HTML object>"
      ]
     },
     "metadata": {},
     "output_type": "display_data"
    },
    {
     "data": {
      "text/html": [
       " View run at <a href='https://wandb.ai/jwdam-korea-university-of-technology-and-education/titanic_training/runs/3vd2q1wj' target=\"_blank\">https://wandb.ai/jwdam-korea-university-of-technology-and-education/titanic_training/runs/3vd2q1wj</a>"
      ],
      "text/plain": [
       "<IPython.core.display.HTML object>"
      ]
     },
     "metadata": {},
     "output_type": "display_data"
    },
    {
     "name": "stdout",
     "output_type": "stream",
     "text": [
      "Index(['Survived', 'Pclass', 'Sex', 'Age', 'SibSp', 'Parch', 'Fare',\n",
      "       'Embarked', 'title', 'family_num', 'alone'],\n",
      "      dtype='object')\n",
      "   Survived  Pclass  Sex   Age  SibSp  Parch     Fare  Embarked  title  \\\n",
      "0       0.0       3    1  22.0      1      0   7.2500         2      2   \n",
      "1       1.0       1    0  38.0      1      0  71.2833         0      3   \n",
      "2       1.0       3    0  26.0      0      0   7.9250         2      1   \n",
      "3       1.0       1    0  35.0      1      0  53.1000         2      3   \n",
      "4       0.0       3    1  35.0      0      0   8.0500         2      2   \n",
      "5       0.0       3    1  29.0      0      0   8.4583         1      2   \n",
      "6       0.0       1    1  54.0      0      0  51.8625         2      2   \n",
      "7       0.0       3    1   2.0      3      1  21.0750         2      0   \n",
      "8       1.0       3    0  27.0      0      2  11.1333         2      3   \n",
      "9       1.0       2    0  14.0      1      0  30.0708         0      3   \n",
      "\n",
      "   family_num  alone  \n",
      "0           1    0.0  \n",
      "1           1    0.0  \n",
      "2           0    1.0  \n",
      "3           1    0.0  \n",
      "4           0    1.0  \n",
      "5           0    1.0  \n",
      "6           0    1.0  \n",
      "7           4    0.0  \n",
      "8           2    0.0  \n",
      "9           1    0.0  \n",
      "Data Size: 891, Input Shape: torch.Size([891, 10]), Target Shape: torch.Size([891])\n",
      "713 178 418\n",
      "--- ELU / 32 ---\n",
      "Epoch 100, Training loss 0.5751, Validation loss 0.5990\n",
      "Epoch 200, Training loss 0.5746, Validation loss 0.6148\n",
      "Epoch 300, Training loss 0.5451, Validation loss 0.5840\n",
      "Epoch 400, Training loss 0.5222, Validation loss 0.5719\n",
      "Epoch 500, Training loss 0.5066, Validation loss 0.5590\n",
      "Epoch 600, Training loss 0.4934, Validation loss 0.5187\n",
      "Epoch 700, Training loss 0.4815, Validation loss 0.5641\n",
      "Epoch 800, Training loss 0.4614, Validation loss 0.5392\n",
      "Epoch 900, Training loss 0.4808, Validation loss 0.4571\n",
      "Epoch 1000, Training loss 0.4786, Validation loss 0.5688\n",
      "\n",
      " Finished ELU / Batch=32\n",
      "WandB URL: https://wandb.ai/jwdam-korea-university-of-technology-and-education/titanic_training/runs/3vd2q1wj\n"
     ]
    },
    {
     "data": {
      "text/html": [],
      "text/plain": [
       "<IPython.core.display.HTML object>"
      ]
     },
     "metadata": {},
     "output_type": "display_data"
    },
    {
     "data": {
      "text/html": [
       "<br>    <style><br>        .wandb-row {<br>            display: flex;<br>            flex-direction: row;<br>            flex-wrap: wrap;<br>            justify-content: flex-start;<br>            width: 100%;<br>        }<br>        .wandb-col {<br>            display: flex;<br>            flex-direction: column;<br>            flex-basis: 100%;<br>            flex: 1;<br>            padding: 10px;<br>        }<br>    </style><br><div class=\"wandb-row\"><div class=\"wandb-col\"><h3>Run history:</h3><br/><table class=\"wandb\"><tr><td>Epoch</td><td>▁▁▁▁▂▂▂▂▃▃▃▃▃▃▄▄▄▄▄▄▅▅▅▅▅▅▅▅▅▆▆▆▆▆▆▆▇▇██</td></tr><tr><td>Training loss</td><td>███▇▇▇▇▆▇▆▆▆▇▆▆▅▅▆▅▄▃▄▃▃▃▃▃▃▃▃▃▂▃▂▂▂▂▂▁▂</td></tr><tr><td>Validation loss</td><td>▇▇▇▇▇▇▆█▇▇▆▆▆▆█▄▅▅▄▄▃▅▃▄▃▃▅▃▂▅▂▁▄▃▁▁▂▄▃▃</td></tr></table><br/></div><div class=\"wandb-col\"><h3>Run summary:</h3><br/><table class=\"wandb\"><tr><td>Epoch</td><td>1000</td></tr><tr><td>Training loss</td><td>0.4786</td></tr><tr><td>Validation loss</td><td>0.56875</td></tr><tr><td>best_val_loss</td><td>0.42788</td></tr></table><br/></div></div>"
      ],
      "text/plain": [
       "<IPython.core.display.HTML object>"
      ]
     },
     "metadata": {},
     "output_type": "display_data"
    },
    {
     "data": {
      "text/html": [
       " View run <strong style=\"color:#cdcd00\">titanic_ELU_bs32_2025-10-10_11-57-50</strong> at: <a href='https://wandb.ai/jwdam-korea-university-of-technology-and-education/titanic_training/runs/3vd2q1wj' target=\"_blank\">https://wandb.ai/jwdam-korea-university-of-technology-and-education/titanic_training/runs/3vd2q1wj</a><br> View project at: <a href='https://wandb.ai/jwdam-korea-university-of-technology-and-education/titanic_training' target=\"_blank\">https://wandb.ai/jwdam-korea-university-of-technology-and-education/titanic_training</a><br>Synced 5 W&B file(s), 0 media file(s), 0 artifact file(s) and 0 other file(s)"
      ],
      "text/plain": [
       "<IPython.core.display.HTML object>"
      ]
     },
     "metadata": {},
     "output_type": "display_data"
    },
    {
     "data": {
      "text/html": [
       "Find logs at: <code>.\\wandb\\run-20251010_115750-3vd2q1wj\\logs</code>"
      ],
      "text/plain": [
       "<IPython.core.display.HTML object>"
      ]
     },
     "metadata": {},
     "output_type": "display_data"
    },
    {
     "data": {
      "text/html": [],
      "text/plain": [
       "<IPython.core.display.HTML object>"
      ]
     },
     "metadata": {},
     "output_type": "display_data"
    },
    {
     "data": {
      "text/html": [
       "Tracking run with wandb version 0.22.1"
      ],
      "text/plain": [
       "<IPython.core.display.HTML object>"
      ]
     },
     "metadata": {},
     "output_type": "display_data"
    },
    {
     "data": {
      "text/html": [
       "Run data is saved locally in <code>C:\\Users\\sjw99\\git\\link_dl\\_04_your_code\\wandb\\run-20251010_115815-6u64pmvo</code>"
      ],
      "text/plain": [
       "<IPython.core.display.HTML object>"
      ]
     },
     "metadata": {},
     "output_type": "display_data"
    },
    {
     "data": {
      "text/html": [
       "Syncing run <strong><a href='https://wandb.ai/jwdam-korea-university-of-technology-and-education/titanic_training/runs/6u64pmvo' target=\"_blank\">titanic_ELU_bs64_2025-10-10_11-58-15</a></strong> to <a href='https://wandb.ai/jwdam-korea-university-of-technology-and-education/titanic_training' target=\"_blank\">Weights & Biases</a> (<a href='https://wandb.me/developer-guide' target=\"_blank\">docs</a>)<br>"
      ],
      "text/plain": [
       "<IPython.core.display.HTML object>"
      ]
     },
     "metadata": {},
     "output_type": "display_data"
    },
    {
     "data": {
      "text/html": [
       " View project at <a href='https://wandb.ai/jwdam-korea-university-of-technology-and-education/titanic_training' target=\"_blank\">https://wandb.ai/jwdam-korea-university-of-technology-and-education/titanic_training</a>"
      ],
      "text/plain": [
       "<IPython.core.display.HTML object>"
      ]
     },
     "metadata": {},
     "output_type": "display_data"
    },
    {
     "data": {
      "text/html": [
       " View run at <a href='https://wandb.ai/jwdam-korea-university-of-technology-and-education/titanic_training/runs/6u64pmvo' target=\"_blank\">https://wandb.ai/jwdam-korea-university-of-technology-and-education/titanic_training/runs/6u64pmvo</a>"
      ],
      "text/plain": [
       "<IPython.core.display.HTML object>"
      ]
     },
     "metadata": {},
     "output_type": "display_data"
    },
    {
     "name": "stdout",
     "output_type": "stream",
     "text": [
      "Index(['Survived', 'Pclass', 'Sex', 'Age', 'SibSp', 'Parch', 'Fare',\n",
      "       'Embarked', 'title', 'family_num', 'alone'],\n",
      "      dtype='object')\n",
      "   Survived  Pclass  Sex   Age  SibSp  Parch     Fare  Embarked  title  \\\n",
      "0       0.0       3    1  22.0      1      0   7.2500         2      2   \n",
      "1       1.0       1    0  38.0      1      0  71.2833         0      3   \n",
      "2       1.0       3    0  26.0      0      0   7.9250         2      1   \n",
      "3       1.0       1    0  35.0      1      0  53.1000         2      3   \n",
      "4       0.0       3    1  35.0      0      0   8.0500         2      2   \n",
      "5       0.0       3    1  29.0      0      0   8.4583         1      2   \n",
      "6       0.0       1    1  54.0      0      0  51.8625         2      2   \n",
      "7       0.0       3    1   2.0      3      1  21.0750         2      0   \n",
      "8       1.0       3    0  27.0      0      2  11.1333         2      3   \n",
      "9       1.0       2    0  14.0      1      0  30.0708         0      3   \n",
      "\n",
      "   family_num  alone  \n",
      "0           1    0.0  \n",
      "1           1    0.0  \n",
      "2           0    1.0  \n",
      "3           1    0.0  \n",
      "4           0    1.0  \n",
      "5           0    1.0  \n",
      "6           0    1.0  \n",
      "7           4    0.0  \n",
      "8           2    0.0  \n",
      "9           1    0.0  \n",
      "Data Size: 891, Input Shape: torch.Size([891, 10]), Target Shape: torch.Size([891])\n",
      "713 178 418\n",
      "--- ELU / 64 ---\n",
      "Epoch 100, Training loss 0.6034, Validation loss 0.5941\n",
      "Epoch 200, Training loss 0.5636, Validation loss 0.5897\n",
      "Epoch 300, Training loss 0.5587, Validation loss 0.5857\n",
      "Epoch 400, Training loss 0.5725, Validation loss 0.5828\n",
      "Epoch 500, Training loss 0.5556, Validation loss 0.5753\n",
      "Epoch 600, Training loss 0.5569, Validation loss 0.5678\n",
      "Epoch 700, Training loss 0.5708, Validation loss 0.5557\n",
      "Epoch 800, Training loss 0.5387, Validation loss 0.5476\n",
      "Epoch 900, Training loss 0.5521, Validation loss 0.5384\n",
      "Epoch 1000, Training loss 0.5155, Validation loss 0.5353\n",
      "\n",
      " Finished ELU / Batch=64\n",
      "WandB URL: https://wandb.ai/jwdam-korea-university-of-technology-and-education/titanic_training/runs/6u64pmvo\n"
     ]
    },
    {
     "data": {
      "text/html": [],
      "text/plain": [
       "<IPython.core.display.HTML object>"
      ]
     },
     "metadata": {},
     "output_type": "display_data"
    },
    {
     "data": {
      "text/html": [
       "<br>    <style><br>        .wandb-row {<br>            display: flex;<br>            flex-direction: row;<br>            flex-wrap: wrap;<br>            justify-content: flex-start;<br>            width: 100%;<br>        }<br>        .wandb-col {<br>            display: flex;<br>            flex-direction: column;<br>            flex-basis: 100%;<br>            flex: 1;<br>            padding: 10px;<br>        }<br>    </style><br><div class=\"wandb-row\"><div class=\"wandb-col\"><h3>Run history:</h3><br/><table class=\"wandb\"><tr><td>Epoch</td><td>▁▁▁▁▂▂▂▂▂▂▃▃▃▃▃▃▄▄▄▄▄▅▅▅▆▆▆▆▆▇▇▇▇▇▇▇▇▇██</td></tr><tr><td>Training loss</td><td>██▆█▅▆▇▆▆▆▅▆▅▄▅▄▄▆▆▅▄▃▅▄▃▄▄▃▃▄▅▄▃▁▃▁▁▂▁▂</td></tr><tr><td>Validation loss</td><td>████▇▇▇▇▇▇▇▆▇▇▆▆▆▆▆▆▆▆▆▅▅▅▅▄▄▅▄▄▃▄▃▂▂▂▂▁</td></tr></table><br/></div><div class=\"wandb-col\"><h3>Run summary:</h3><br/><table class=\"wandb\"><tr><td>Epoch</td><td>1000</td></tr><tr><td>Training loss</td><td>0.51548</td></tr><tr><td>Validation loss</td><td>0.5353</td></tr><tr><td>best_val_loss</td><td>0.5252</td></tr></table><br/></div></div>"
      ],
      "text/plain": [
       "<IPython.core.display.HTML object>"
      ]
     },
     "metadata": {},
     "output_type": "display_data"
    },
    {
     "data": {
      "text/html": [
       " View run <strong style=\"color:#cdcd00\">titanic_ELU_bs64_2025-10-10_11-58-15</strong> at: <a href='https://wandb.ai/jwdam-korea-university-of-technology-and-education/titanic_training/runs/6u64pmvo' target=\"_blank\">https://wandb.ai/jwdam-korea-university-of-technology-and-education/titanic_training/runs/6u64pmvo</a><br> View project at: <a href='https://wandb.ai/jwdam-korea-university-of-technology-and-education/titanic_training' target=\"_blank\">https://wandb.ai/jwdam-korea-university-of-technology-and-education/titanic_training</a><br>Synced 5 W&B file(s), 0 media file(s), 0 artifact file(s) and 0 other file(s)"
      ],
      "text/plain": [
       "<IPython.core.display.HTML object>"
      ]
     },
     "metadata": {},
     "output_type": "display_data"
    },
    {
     "data": {
      "text/html": [
       "Find logs at: <code>.\\wandb\\run-20251010_115815-6u64pmvo\\logs</code>"
      ],
      "text/plain": [
       "<IPython.core.display.HTML object>"
      ]
     },
     "metadata": {},
     "output_type": "display_data"
    },
    {
     "data": {
      "text/html": [],
      "text/plain": [
       "<IPython.core.display.HTML object>"
      ]
     },
     "metadata": {},
     "output_type": "display_data"
    },
    {
     "data": {
      "text/html": [
       "Tracking run with wandb version 0.22.1"
      ],
      "text/plain": [
       "<IPython.core.display.HTML object>"
      ]
     },
     "metadata": {},
     "output_type": "display_data"
    },
    {
     "data": {
      "text/html": [
       "Run data is saved locally in <code>C:\\Users\\sjw99\\git\\link_dl\\_04_your_code\\wandb\\run-20251010_115833-c04ad6j0</code>"
      ],
      "text/plain": [
       "<IPython.core.display.HTML object>"
      ]
     },
     "metadata": {},
     "output_type": "display_data"
    },
    {
     "data": {
      "text/html": [
       "Syncing run <strong><a href='https://wandb.ai/jwdam-korea-university-of-technology-and-education/titanic_training/runs/c04ad6j0' target=\"_blank\">titanic_ELU_bs128_2025-10-10_11-58-33</a></strong> to <a href='https://wandb.ai/jwdam-korea-university-of-technology-and-education/titanic_training' target=\"_blank\">Weights & Biases</a> (<a href='https://wandb.me/developer-guide' target=\"_blank\">docs</a>)<br>"
      ],
      "text/plain": [
       "<IPython.core.display.HTML object>"
      ]
     },
     "metadata": {},
     "output_type": "display_data"
    },
    {
     "data": {
      "text/html": [
       " View project at <a href='https://wandb.ai/jwdam-korea-university-of-technology-and-education/titanic_training' target=\"_blank\">https://wandb.ai/jwdam-korea-university-of-technology-and-education/titanic_training</a>"
      ],
      "text/plain": [
       "<IPython.core.display.HTML object>"
      ]
     },
     "metadata": {},
     "output_type": "display_data"
    },
    {
     "data": {
      "text/html": [
       " View run at <a href='https://wandb.ai/jwdam-korea-university-of-technology-and-education/titanic_training/runs/c04ad6j0' target=\"_blank\">https://wandb.ai/jwdam-korea-university-of-technology-and-education/titanic_training/runs/c04ad6j0</a>"
      ],
      "text/plain": [
       "<IPython.core.display.HTML object>"
      ]
     },
     "metadata": {},
     "output_type": "display_data"
    },
    {
     "name": "stdout",
     "output_type": "stream",
     "text": [
      "Index(['Survived', 'Pclass', 'Sex', 'Age', 'SibSp', 'Parch', 'Fare',\n",
      "       'Embarked', 'title', 'family_num', 'alone'],\n",
      "      dtype='object')\n",
      "   Survived  Pclass  Sex   Age  SibSp  Parch     Fare  Embarked  title  \\\n",
      "0       0.0       3    1  22.0      1      0   7.2500         2      2   \n",
      "1       1.0       1    0  38.0      1      0  71.2833         0      3   \n",
      "2       1.0       3    0  26.0      0      0   7.9250         2      1   \n",
      "3       1.0       1    0  35.0      1      0  53.1000         2      3   \n",
      "4       0.0       3    1  35.0      0      0   8.0500         2      2   \n",
      "5       0.0       3    1  29.0      0      0   8.4583         1      2   \n",
      "6       0.0       1    1  54.0      0      0  51.8625         2      2   \n",
      "7       0.0       3    1   2.0      3      1  21.0750         2      0   \n",
      "8       1.0       3    0  27.0      0      2  11.1333         2      3   \n",
      "9       1.0       2    0  14.0      1      0  30.0708         0      3   \n",
      "\n",
      "   family_num  alone  \n",
      "0           1    0.0  \n",
      "1           1    0.0  \n",
      "2           0    1.0  \n",
      "3           1    0.0  \n",
      "4           0    1.0  \n",
      "5           0    1.0  \n",
      "6           0    1.0  \n",
      "7           4    0.0  \n",
      "8           2    0.0  \n",
      "9           1    0.0  \n",
      "Data Size: 891, Input Shape: torch.Size([891, 10]), Target Shape: torch.Size([891])\n",
      "713 178 418\n",
      "--- ELU / 128 ---\n",
      "Epoch 100, Training loss 0.6281, Validation loss 0.5807\n",
      "Epoch 200, Training loss 0.6174, Validation loss 0.5630\n",
      "Epoch 300, Training loss 0.6057, Validation loss 0.5535\n",
      "Epoch 400, Training loss 0.6029, Validation loss 0.5480\n",
      "Epoch 500, Training loss 0.6000, Validation loss 0.5446\n",
      "Epoch 600, Training loss 0.6017, Validation loss 0.5414\n",
      "Epoch 700, Training loss 0.5881, Validation loss 0.5371\n",
      "Epoch 800, Training loss 0.5927, Validation loss 0.5346\n",
      "Epoch 900, Training loss 0.5846, Validation loss 0.5323\n",
      "Epoch 1000, Training loss 0.5847, Validation loss 0.5317\n",
      "\n",
      " Finished ELU / Batch=128\n",
      "WandB URL: https://wandb.ai/jwdam-korea-university-of-technology-and-education/titanic_training/runs/c04ad6j0\n"
     ]
    },
    {
     "data": {
      "text/html": [],
      "text/plain": [
       "<IPython.core.display.HTML object>"
      ]
     },
     "metadata": {},
     "output_type": "display_data"
    },
    {
     "data": {
      "text/html": [
       "<br>    <style><br>        .wandb-row {<br>            display: flex;<br>            flex-direction: row;<br>            flex-wrap: wrap;<br>            justify-content: flex-start;<br>            width: 100%;<br>        }<br>        .wandb-col {<br>            display: flex;<br>            flex-direction: column;<br>            flex-basis: 100%;<br>            flex: 1;<br>            padding: 10px;<br>        }<br>    </style><br><div class=\"wandb-row\"><div class=\"wandb-col\"><h3>Run history:</h3><br/><table class=\"wandb\"><tr><td>Epoch</td><td>▁▁▁▁▂▂▃▃▃▃▃▃▃▃▃▄▄▄▄▅▅▅▅▅▅▆▆▆▆▆▆▆▇▇▇▇▇▇▇█</td></tr><tr><td>Training loss</td><td>█▇▆▆▆▆▅▅▄▅▄▄▄▄▃▃▃▃▃▃▃▃▃▃▂▂▂▂▂▂▂▁▂▂▂▁▁▂▂▂</td></tr><tr><td>Validation loss</td><td>█▇▆▆▆▆▆▅▅▄▄▄▄▃▄▃▃▃▃▃▃▂▂▂▂▂▂▂▂▂▂▂▁▁▁▁▁▁▁▁</td></tr></table><br/></div><div class=\"wandb-col\"><h3>Run summary:</h3><br/><table class=\"wandb\"><tr><td>Epoch</td><td>1000</td></tr><tr><td>Training loss</td><td>0.58468</td></tr><tr><td>Validation loss</td><td>0.53171</td></tr><tr><td>best_val_loss</td><td>0.52954</td></tr></table><br/></div></div>"
      ],
      "text/plain": [
       "<IPython.core.display.HTML object>"
      ]
     },
     "metadata": {},
     "output_type": "display_data"
    },
    {
     "data": {
      "text/html": [
       " View run <strong style=\"color:#cdcd00\">titanic_ELU_bs128_2025-10-10_11-58-33</strong> at: <a href='https://wandb.ai/jwdam-korea-university-of-technology-and-education/titanic_training/runs/c04ad6j0' target=\"_blank\">https://wandb.ai/jwdam-korea-university-of-technology-and-education/titanic_training/runs/c04ad6j0</a><br> View project at: <a href='https://wandb.ai/jwdam-korea-university-of-technology-and-education/titanic_training' target=\"_blank\">https://wandb.ai/jwdam-korea-university-of-technology-and-education/titanic_training</a><br>Synced 5 W&B file(s), 0 media file(s), 0 artifact file(s) and 0 other file(s)"
      ],
      "text/plain": [
       "<IPython.core.display.HTML object>"
      ]
     },
     "metadata": {},
     "output_type": "display_data"
    },
    {
     "data": {
      "text/html": [
       "Find logs at: <code>.\\wandb\\run-20251010_115833-c04ad6j0\\logs</code>"
      ],
      "text/plain": [
       "<IPython.core.display.HTML object>"
      ]
     },
     "metadata": {},
     "output_type": "display_data"
    },
    {
     "data": {
      "text/html": [],
      "text/plain": [
       "<IPython.core.display.HTML object>"
      ]
     },
     "metadata": {},
     "output_type": "display_data"
    },
    {
     "data": {
      "text/html": [
       "Tracking run with wandb version 0.22.1"
      ],
      "text/plain": [
       "<IPython.core.display.HTML object>"
      ]
     },
     "metadata": {},
     "output_type": "display_data"
    },
    {
     "data": {
      "text/html": [
       "Run data is saved locally in <code>C:\\Users\\sjw99\\git\\link_dl\\_04_your_code\\wandb\\run-20251010_115847-9tr6s0a1</code>"
      ],
      "text/plain": [
       "<IPython.core.display.HTML object>"
      ]
     },
     "metadata": {},
     "output_type": "display_data"
    },
    {
     "data": {
      "text/html": [
       "Syncing run <strong><a href='https://wandb.ai/jwdam-korea-university-of-technology-and-education/titanic_training/runs/9tr6s0a1' target=\"_blank\">titanic_LeakyReLU_bs16_2025-10-10_11-58-47</a></strong> to <a href='https://wandb.ai/jwdam-korea-university-of-technology-and-education/titanic_training' target=\"_blank\">Weights & Biases</a> (<a href='https://wandb.me/developer-guide' target=\"_blank\">docs</a>)<br>"
      ],
      "text/plain": [
       "<IPython.core.display.HTML object>"
      ]
     },
     "metadata": {},
     "output_type": "display_data"
    },
    {
     "data": {
      "text/html": [
       " View project at <a href='https://wandb.ai/jwdam-korea-university-of-technology-and-education/titanic_training' target=\"_blank\">https://wandb.ai/jwdam-korea-university-of-technology-and-education/titanic_training</a>"
      ],
      "text/plain": [
       "<IPython.core.display.HTML object>"
      ]
     },
     "metadata": {},
     "output_type": "display_data"
    },
    {
     "data": {
      "text/html": [
       " View run at <a href='https://wandb.ai/jwdam-korea-university-of-technology-and-education/titanic_training/runs/9tr6s0a1' target=\"_blank\">https://wandb.ai/jwdam-korea-university-of-technology-and-education/titanic_training/runs/9tr6s0a1</a>"
      ],
      "text/plain": [
       "<IPython.core.display.HTML object>"
      ]
     },
     "metadata": {},
     "output_type": "display_data"
    },
    {
     "name": "stdout",
     "output_type": "stream",
     "text": [
      "Index(['Survived', 'Pclass', 'Sex', 'Age', 'SibSp', 'Parch', 'Fare',\n",
      "       'Embarked', 'title', 'family_num', 'alone'],\n",
      "      dtype='object')\n",
      "   Survived  Pclass  Sex   Age  SibSp  Parch     Fare  Embarked  title  \\\n",
      "0       0.0       3    1  22.0      1      0   7.2500         2      2   \n",
      "1       1.0       1    0  38.0      1      0  71.2833         0      3   \n",
      "2       1.0       3    0  26.0      0      0   7.9250         2      1   \n",
      "3       1.0       1    0  35.0      1      0  53.1000         2      3   \n",
      "4       0.0       3    1  35.0      0      0   8.0500         2      2   \n",
      "5       0.0       3    1  29.0      0      0   8.4583         1      2   \n",
      "6       0.0       1    1  54.0      0      0  51.8625         2      2   \n",
      "7       0.0       3    1   2.0      3      1  21.0750         2      0   \n",
      "8       1.0       3    0  27.0      0      2  11.1333         2      3   \n",
      "9       1.0       2    0  14.0      1      0  30.0708         0      3   \n",
      "\n",
      "   family_num  alone  \n",
      "0           1    0.0  \n",
      "1           1    0.0  \n",
      "2           0    1.0  \n",
      "3           1    0.0  \n",
      "4           0    1.0  \n",
      "5           0    1.0  \n",
      "6           0    1.0  \n",
      "7           4    0.0  \n",
      "8           2    0.0  \n",
      "9           1    0.0  \n",
      "Data Size: 891, Input Shape: torch.Size([891, 10]), Target Shape: torch.Size([891])\n",
      "713 178 418\n",
      "--- LeakyReLU / 16 ---\n",
      "Epoch 100, Training loss 0.5847, Validation loss 0.5695\n",
      "Epoch 200, Training loss 0.5669, Validation loss 0.5576\n",
      "Epoch 300, Training loss 0.5479, Validation loss 0.5468\n",
      "Epoch 400, Training loss 0.5325, Validation loss 0.5195\n",
      "Epoch 500, Training loss 0.4987, Validation loss 0.4985\n",
      "Epoch 600, Training loss 0.4804, Validation loss 0.4686\n",
      "Epoch 700, Training loss 0.4692, Validation loss 0.4826\n",
      "Epoch 800, Training loss 0.4757, Validation loss 0.4091\n",
      "Epoch 900, Training loss 0.4651, Validation loss 0.4469\n",
      "Epoch 1000, Training loss 0.4514, Validation loss 0.4215\n",
      "\n",
      " Finished LeakyReLU / Batch=16\n",
      "WandB URL: https://wandb.ai/jwdam-korea-university-of-technology-and-education/titanic_training/runs/9tr6s0a1\n"
     ]
    },
    {
     "data": {
      "text/html": [],
      "text/plain": [
       "<IPython.core.display.HTML object>"
      ]
     },
     "metadata": {},
     "output_type": "display_data"
    },
    {
     "data": {
      "text/html": [
       "<br>    <style><br>        .wandb-row {<br>            display: flex;<br>            flex-direction: row;<br>            flex-wrap: wrap;<br>            justify-content: flex-start;<br>            width: 100%;<br>        }<br>        .wandb-col {<br>            display: flex;<br>            flex-direction: column;<br>            flex-basis: 100%;<br>            flex: 1;<br>            padding: 10px;<br>        }<br>    </style><br><div class=\"wandb-row\"><div class=\"wandb-col\"><h3>Run history:</h3><br/><table class=\"wandb\"><tr><td>Epoch</td><td>▁▁▂▂▂▂▂▃▃▃▃▃▃▃▃▃▄▄▄▄▄▄▅▅▅▆▆▆▆▆▆▆▆▇▇▇▇▇██</td></tr><tr><td>Training loss</td><td>████▇▇▇▇▇▇▆▆▆▆▆▅▄▄▄▄▄▃▃▃▂▂▂▃▂▂▂▂▂▂▃▁▁▂▂▁</td></tr><tr><td>Validation loss</td><td>█▇▆▆▇▆▆▆▇▅▅▆▄▄▄▄▄▃▅▄▃▃▂▂▃▁▁▂▂▁▃▁▂▂▃▁▁▂▁▂</td></tr></table><br/></div><div class=\"wandb-col\"><h3>Run summary:</h3><br/><table class=\"wandb\"><tr><td>Epoch</td><td>1000</td></tr><tr><td>Training loss</td><td>0.45139</td></tr><tr><td>Validation loss</td><td>0.4215</td></tr><tr><td>best_val_loss</td><td>0.3829</td></tr></table><br/></div></div>"
      ],
      "text/plain": [
       "<IPython.core.display.HTML object>"
      ]
     },
     "metadata": {},
     "output_type": "display_data"
    },
    {
     "data": {
      "text/html": [
       " View run <strong style=\"color:#cdcd00\">titanic_LeakyReLU_bs16_2025-10-10_11-58-47</strong> at: <a href='https://wandb.ai/jwdam-korea-university-of-technology-and-education/titanic_training/runs/9tr6s0a1' target=\"_blank\">https://wandb.ai/jwdam-korea-university-of-technology-and-education/titanic_training/runs/9tr6s0a1</a><br> View project at: <a href='https://wandb.ai/jwdam-korea-university-of-technology-and-education/titanic_training' target=\"_blank\">https://wandb.ai/jwdam-korea-university-of-technology-and-education/titanic_training</a><br>Synced 5 W&B file(s), 0 media file(s), 0 artifact file(s) and 0 other file(s)"
      ],
      "text/plain": [
       "<IPython.core.display.HTML object>"
      ]
     },
     "metadata": {},
     "output_type": "display_data"
    },
    {
     "data": {
      "text/html": [
       "Find logs at: <code>.\\wandb\\run-20251010_115847-9tr6s0a1\\logs</code>"
      ],
      "text/plain": [
       "<IPython.core.display.HTML object>"
      ]
     },
     "metadata": {},
     "output_type": "display_data"
    },
    {
     "data": {
      "text/html": [],
      "text/plain": [
       "<IPython.core.display.HTML object>"
      ]
     },
     "metadata": {},
     "output_type": "display_data"
    },
    {
     "data": {
      "text/html": [
       "Tracking run with wandb version 0.22.1"
      ],
      "text/plain": [
       "<IPython.core.display.HTML object>"
      ]
     },
     "metadata": {},
     "output_type": "display_data"
    },
    {
     "data": {
      "text/html": [
       "Run data is saved locally in <code>C:\\Users\\sjw99\\git\\link_dl\\_04_your_code\\wandb\\run-20251010_115924-rke12x55</code>"
      ],
      "text/plain": [
       "<IPython.core.display.HTML object>"
      ]
     },
     "metadata": {},
     "output_type": "display_data"
    },
    {
     "data": {
      "text/html": [
       "Syncing run <strong><a href='https://wandb.ai/jwdam-korea-university-of-technology-and-education/titanic_training/runs/rke12x55' target=\"_blank\">titanic_LeakyReLU_bs32_2025-10-10_11-59-24</a></strong> to <a href='https://wandb.ai/jwdam-korea-university-of-technology-and-education/titanic_training' target=\"_blank\">Weights & Biases</a> (<a href='https://wandb.me/developer-guide' target=\"_blank\">docs</a>)<br>"
      ],
      "text/plain": [
       "<IPython.core.display.HTML object>"
      ]
     },
     "metadata": {},
     "output_type": "display_data"
    },
    {
     "data": {
      "text/html": [
       " View project at <a href='https://wandb.ai/jwdam-korea-university-of-technology-and-education/titanic_training' target=\"_blank\">https://wandb.ai/jwdam-korea-university-of-technology-and-education/titanic_training</a>"
      ],
      "text/plain": [
       "<IPython.core.display.HTML object>"
      ]
     },
     "metadata": {},
     "output_type": "display_data"
    },
    {
     "data": {
      "text/html": [
       " View run at <a href='https://wandb.ai/jwdam-korea-university-of-technology-and-education/titanic_training/runs/rke12x55' target=\"_blank\">https://wandb.ai/jwdam-korea-university-of-technology-and-education/titanic_training/runs/rke12x55</a>"
      ],
      "text/plain": [
       "<IPython.core.display.HTML object>"
      ]
     },
     "metadata": {},
     "output_type": "display_data"
    },
    {
     "name": "stdout",
     "output_type": "stream",
     "text": [
      "Index(['Survived', 'Pclass', 'Sex', 'Age', 'SibSp', 'Parch', 'Fare',\n",
      "       'Embarked', 'title', 'family_num', 'alone'],\n",
      "      dtype='object')\n",
      "   Survived  Pclass  Sex   Age  SibSp  Parch     Fare  Embarked  title  \\\n",
      "0       0.0       3    1  22.0      1      0   7.2500         2      2   \n",
      "1       1.0       1    0  38.0      1      0  71.2833         0      3   \n",
      "2       1.0       3    0  26.0      0      0   7.9250         2      1   \n",
      "3       1.0       1    0  35.0      1      0  53.1000         2      3   \n",
      "4       0.0       3    1  35.0      0      0   8.0500         2      2   \n",
      "5       0.0       3    1  29.0      0      0   8.4583         1      2   \n",
      "6       0.0       1    1  54.0      0      0  51.8625         2      2   \n",
      "7       0.0       3    1   2.0      3      1  21.0750         2      0   \n",
      "8       1.0       3    0  27.0      0      2  11.1333         2      3   \n",
      "9       1.0       2    0  14.0      1      0  30.0708         0      3   \n",
      "\n",
      "   family_num  alone  \n",
      "0           1    0.0  \n",
      "1           1    0.0  \n",
      "2           0    1.0  \n",
      "3           1    0.0  \n",
      "4           0    1.0  \n",
      "5           0    1.0  \n",
      "6           0    1.0  \n",
      "7           4    0.0  \n",
      "8           2    0.0  \n",
      "9           1    0.0  \n",
      "Data Size: 891, Input Shape: torch.Size([891, 10]), Target Shape: torch.Size([891])\n",
      "713 178 418\n",
      "--- LeakyReLU / 32 ---\n",
      "Epoch 100, Training loss 0.5788, Validation loss 0.5836\n",
      "Epoch 200, Training loss 0.5685, Validation loss 0.5842\n",
      "Epoch 300, Training loss 0.5517, Validation loss 0.5553\n",
      "Epoch 400, Training loss 0.5297, Validation loss 0.5396\n",
      "Epoch 500, Training loss 0.5047, Validation loss 0.5262\n",
      "Epoch 600, Training loss 0.4761, Validation loss 0.5144\n",
      "Epoch 700, Training loss 0.4740, Validation loss 0.5203\n",
      "Epoch 800, Training loss 0.4635, Validation loss 0.4940\n",
      "Epoch 900, Training loss 0.4561, Validation loss 0.5171\n",
      "Epoch 1000, Training loss 0.4383, Validation loss 0.5471\n",
      "\n",
      " Finished LeakyReLU / Batch=32\n",
      "WandB URL: https://wandb.ai/jwdam-korea-university-of-technology-and-education/titanic_training/runs/rke12x55\n"
     ]
    },
    {
     "data": {
      "text/html": [],
      "text/plain": [
       "<IPython.core.display.HTML object>"
      ]
     },
     "metadata": {},
     "output_type": "display_data"
    },
    {
     "data": {
      "text/html": [
       "<br>    <style><br>        .wandb-row {<br>            display: flex;<br>            flex-direction: row;<br>            flex-wrap: wrap;<br>            justify-content: flex-start;<br>            width: 100%;<br>        }<br>        .wandb-col {<br>            display: flex;<br>            flex-direction: column;<br>            flex-basis: 100%;<br>            flex: 1;<br>            padding: 10px;<br>        }<br>    </style><br><div class=\"wandb-row\"><div class=\"wandb-col\"><h3>Run history:</h3><br/><table class=\"wandb\"><tr><td>Epoch</td><td>▁▁▁▁▁▁▂▂▂▂▂▂▃▃▃▄▄▅▅▅▅▅▅▅▆▆▆▆▆▆▆▆▆▇▇▇▇▇▇█</td></tr><tr><td>Training loss</td><td>████▇▇▆▆▆▆▅▅▅▅▅▄▄▄▃▄▃▃▃▃▃▃▃▂▂▂▂▂▂▁▁▂▂▂▁▂</td></tr><tr><td>Validation loss</td><td>▃▃▃▃▃▃▃▃▃▃▃▂▃▂▂▂▂▂▂▂▃▂▂▁▃▁█▁▁▂▃▁▁▂▁▇▁▁▁▁</td></tr></table><br/></div><div class=\"wandb-col\"><h3>Run summary:</h3><br/><table class=\"wandb\"><tr><td>Epoch</td><td>1000</td></tr><tr><td>Training loss</td><td>0.43835</td></tr><tr><td>Validation loss</td><td>0.54715</td></tr><tr><td>best_val_loss</td><td>0.47562</td></tr></table><br/></div></div>"
      ],
      "text/plain": [
       "<IPython.core.display.HTML object>"
      ]
     },
     "metadata": {},
     "output_type": "display_data"
    },
    {
     "data": {
      "text/html": [
       " View run <strong style=\"color:#cdcd00\">titanic_LeakyReLU_bs32_2025-10-10_11-59-24</strong> at: <a href='https://wandb.ai/jwdam-korea-university-of-technology-and-education/titanic_training/runs/rke12x55' target=\"_blank\">https://wandb.ai/jwdam-korea-university-of-technology-and-education/titanic_training/runs/rke12x55</a><br> View project at: <a href='https://wandb.ai/jwdam-korea-university-of-technology-and-education/titanic_training' target=\"_blank\">https://wandb.ai/jwdam-korea-university-of-technology-and-education/titanic_training</a><br>Synced 5 W&B file(s), 0 media file(s), 0 artifact file(s) and 0 other file(s)"
      ],
      "text/plain": [
       "<IPython.core.display.HTML object>"
      ]
     },
     "metadata": {},
     "output_type": "display_data"
    },
    {
     "data": {
      "text/html": [
       "Find logs at: <code>.\\wandb\\run-20251010_115924-rke12x55\\logs</code>"
      ],
      "text/plain": [
       "<IPython.core.display.HTML object>"
      ]
     },
     "metadata": {},
     "output_type": "display_data"
    },
    {
     "data": {
      "text/html": [],
      "text/plain": [
       "<IPython.core.display.HTML object>"
      ]
     },
     "metadata": {},
     "output_type": "display_data"
    },
    {
     "data": {
      "text/html": [
       "Tracking run with wandb version 0.22.1"
      ],
      "text/plain": [
       "<IPython.core.display.HTML object>"
      ]
     },
     "metadata": {},
     "output_type": "display_data"
    },
    {
     "data": {
      "text/html": [
       "Run data is saved locally in <code>C:\\Users\\sjw99\\git\\link_dl\\_04_your_code\\wandb\\run-20251010_115948-xcb9yysy</code>"
      ],
      "text/plain": [
       "<IPython.core.display.HTML object>"
      ]
     },
     "metadata": {},
     "output_type": "display_data"
    },
    {
     "data": {
      "text/html": [
       "Syncing run <strong><a href='https://wandb.ai/jwdam-korea-university-of-technology-and-education/titanic_training/runs/xcb9yysy' target=\"_blank\">titanic_LeakyReLU_bs64_2025-10-10_11-59-48</a></strong> to <a href='https://wandb.ai/jwdam-korea-university-of-technology-and-education/titanic_training' target=\"_blank\">Weights & Biases</a> (<a href='https://wandb.me/developer-guide' target=\"_blank\">docs</a>)<br>"
      ],
      "text/plain": [
       "<IPython.core.display.HTML object>"
      ]
     },
     "metadata": {},
     "output_type": "display_data"
    },
    {
     "data": {
      "text/html": [
       " View project at <a href='https://wandb.ai/jwdam-korea-university-of-technology-and-education/titanic_training' target=\"_blank\">https://wandb.ai/jwdam-korea-university-of-technology-and-education/titanic_training</a>"
      ],
      "text/plain": [
       "<IPython.core.display.HTML object>"
      ]
     },
     "metadata": {},
     "output_type": "display_data"
    },
    {
     "data": {
      "text/html": [
       " View run at <a href='https://wandb.ai/jwdam-korea-university-of-technology-and-education/titanic_training/runs/xcb9yysy' target=\"_blank\">https://wandb.ai/jwdam-korea-university-of-technology-and-education/titanic_training/runs/xcb9yysy</a>"
      ],
      "text/plain": [
       "<IPython.core.display.HTML object>"
      ]
     },
     "metadata": {},
     "output_type": "display_data"
    },
    {
     "name": "stdout",
     "output_type": "stream",
     "text": [
      "Index(['Survived', 'Pclass', 'Sex', 'Age', 'SibSp', 'Parch', 'Fare',\n",
      "       'Embarked', 'title', 'family_num', 'alone'],\n",
      "      dtype='object')\n",
      "   Survived  Pclass  Sex   Age  SibSp  Parch     Fare  Embarked  title  \\\n",
      "0       0.0       3    1  22.0      1      0   7.2500         2      2   \n",
      "1       1.0       1    0  38.0      1      0  71.2833         0      3   \n",
      "2       1.0       3    0  26.0      0      0   7.9250         2      1   \n",
      "3       1.0       1    0  35.0      1      0  53.1000         2      3   \n",
      "4       0.0       3    1  35.0      0      0   8.0500         2      2   \n",
      "5       0.0       3    1  29.0      0      0   8.4583         1      2   \n",
      "6       0.0       1    1  54.0      0      0  51.8625         2      2   \n",
      "7       0.0       3    1   2.0      3      1  21.0750         2      0   \n",
      "8       1.0       3    0  27.0      0      2  11.1333         2      3   \n",
      "9       1.0       2    0  14.0      1      0  30.0708         0      3   \n",
      "\n",
      "   family_num  alone  \n",
      "0           1    0.0  \n",
      "1           1    0.0  \n",
      "2           0    1.0  \n",
      "3           1    0.0  \n",
      "4           0    1.0  \n",
      "5           0    1.0  \n",
      "6           0    1.0  \n",
      "7           4    0.0  \n",
      "8           2    0.0  \n",
      "9           1    0.0  \n",
      "Data Size: 891, Input Shape: torch.Size([891, 10]), Target Shape: torch.Size([891])\n",
      "713 178 418\n",
      "--- LeakyReLU / 64 ---\n",
      "Epoch 100, Training loss 0.6014, Validation loss 0.5942\n",
      "Epoch 200, Training loss 0.6009, Validation loss 0.5849\n",
      "Epoch 300, Training loss 0.5735, Validation loss 0.5810\n",
      "Epoch 400, Training loss 0.5566, Validation loss 0.5899\n",
      "Epoch 500, Training loss 0.5675, Validation loss 0.5831\n",
      "Epoch 600, Training loss 0.5518, Validation loss 0.5795\n",
      "Epoch 700, Training loss 0.5447, Validation loss 0.5699\n",
      "Epoch 800, Training loss 0.5626, Validation loss 0.5882\n",
      "Epoch 900, Training loss 0.5546, Validation loss 0.5644\n",
      "Epoch 1000, Training loss 0.5295, Validation loss 0.5522\n",
      "\n",
      " Finished LeakyReLU / Batch=64\n",
      "WandB URL: https://wandb.ai/jwdam-korea-university-of-technology-and-education/titanic_training/runs/xcb9yysy\n"
     ]
    },
    {
     "data": {
      "text/html": [],
      "text/plain": [
       "<IPython.core.display.HTML object>"
      ]
     },
     "metadata": {},
     "output_type": "display_data"
    },
    {
     "data": {
      "text/html": [
       "<br>    <style><br>        .wandb-row {<br>            display: flex;<br>            flex-direction: row;<br>            flex-wrap: wrap;<br>            justify-content: flex-start;<br>            width: 100%;<br>        }<br>        .wandb-col {<br>            display: flex;<br>            flex-direction: column;<br>            flex-basis: 100%;<br>            flex: 1;<br>            padding: 10px;<br>        }<br>    </style><br><div class=\"wandb-row\"><div class=\"wandb-col\"><h3>Run history:</h3><br/><table class=\"wandb\"><tr><td>Epoch</td><td>▁▁▂▂▂▂▂▂▃▃▃▃▃▃▄▄▄▄▄▄▅▅▅▅▅▆▆▆▆▆▆▆▆▇▇▇▇███</td></tr><tr><td>Training loss</td><td>▇██▆▇▅▄▆▄▅▆▅▆▄▅▄▆▆▄▄▅▄▄▄▄▄▃▄▅▃▃▄▂▃▃▃▂▁▂▃</td></tr><tr><td>Validation loss</td><td>█▇███▇▆▆▅▄▅▄▄▄▅▅▄▄▅▆▄▄▅▃▄▃▃▆▃▂█▄▃▅▃▁▃▃▄▁</td></tr></table><br/></div><div class=\"wandb-col\"><h3>Run summary:</h3><br/><table class=\"wandb\"><tr><td>Epoch</td><td>1000</td></tr><tr><td>Training loss</td><td>0.52952</td></tr><tr><td>Validation loss</td><td>0.55224</td></tr><tr><td>best_val_loss</td><td>0.5486</td></tr></table><br/></div></div>"
      ],
      "text/plain": [
       "<IPython.core.display.HTML object>"
      ]
     },
     "metadata": {},
     "output_type": "display_data"
    },
    {
     "data": {
      "text/html": [
       " View run <strong style=\"color:#cdcd00\">titanic_LeakyReLU_bs64_2025-10-10_11-59-48</strong> at: <a href='https://wandb.ai/jwdam-korea-university-of-technology-and-education/titanic_training/runs/xcb9yysy' target=\"_blank\">https://wandb.ai/jwdam-korea-university-of-technology-and-education/titanic_training/runs/xcb9yysy</a><br> View project at: <a href='https://wandb.ai/jwdam-korea-university-of-technology-and-education/titanic_training' target=\"_blank\">https://wandb.ai/jwdam-korea-university-of-technology-and-education/titanic_training</a><br>Synced 5 W&B file(s), 0 media file(s), 0 artifact file(s) and 0 other file(s)"
      ],
      "text/plain": [
       "<IPython.core.display.HTML object>"
      ]
     },
     "metadata": {},
     "output_type": "display_data"
    },
    {
     "data": {
      "text/html": [
       "Find logs at: <code>.\\wandb\\run-20251010_115948-xcb9yysy\\logs</code>"
      ],
      "text/plain": [
       "<IPython.core.display.HTML object>"
      ]
     },
     "metadata": {},
     "output_type": "display_data"
    },
    {
     "data": {
      "text/html": [],
      "text/plain": [
       "<IPython.core.display.HTML object>"
      ]
     },
     "metadata": {},
     "output_type": "display_data"
    },
    {
     "data": {
      "text/html": [
       "Tracking run with wandb version 0.22.1"
      ],
      "text/plain": [
       "<IPython.core.display.HTML object>"
      ]
     },
     "metadata": {},
     "output_type": "display_data"
    },
    {
     "data": {
      "text/html": [
       "Run data is saved locally in <code>C:\\Users\\sjw99\\git\\link_dl\\_04_your_code\\wandb\\run-20251010_120006-q6yf7ypk</code>"
      ],
      "text/plain": [
       "<IPython.core.display.HTML object>"
      ]
     },
     "metadata": {},
     "output_type": "display_data"
    },
    {
     "data": {
      "text/html": [
       "Syncing run <strong><a href='https://wandb.ai/jwdam-korea-university-of-technology-and-education/titanic_training/runs/q6yf7ypk' target=\"_blank\">titanic_LeakyReLU_bs128_2025-10-10_12-00-06</a></strong> to <a href='https://wandb.ai/jwdam-korea-university-of-technology-and-education/titanic_training' target=\"_blank\">Weights & Biases</a> (<a href='https://wandb.me/developer-guide' target=\"_blank\">docs</a>)<br>"
      ],
      "text/plain": [
       "<IPython.core.display.HTML object>"
      ]
     },
     "metadata": {},
     "output_type": "display_data"
    },
    {
     "data": {
      "text/html": [
       " View project at <a href='https://wandb.ai/jwdam-korea-university-of-technology-and-education/titanic_training' target=\"_blank\">https://wandb.ai/jwdam-korea-university-of-technology-and-education/titanic_training</a>"
      ],
      "text/plain": [
       "<IPython.core.display.HTML object>"
      ]
     },
     "metadata": {},
     "output_type": "display_data"
    },
    {
     "data": {
      "text/html": [
       " View run at <a href='https://wandb.ai/jwdam-korea-university-of-technology-and-education/titanic_training/runs/q6yf7ypk' target=\"_blank\">https://wandb.ai/jwdam-korea-university-of-technology-and-education/titanic_training/runs/q6yf7ypk</a>"
      ],
      "text/plain": [
       "<IPython.core.display.HTML object>"
      ]
     },
     "metadata": {},
     "output_type": "display_data"
    },
    {
     "name": "stdout",
     "output_type": "stream",
     "text": [
      "Index(['Survived', 'Pclass', 'Sex', 'Age', 'SibSp', 'Parch', 'Fare',\n",
      "       'Embarked', 'title', 'family_num', 'alone'],\n",
      "      dtype='object')\n",
      "   Survived  Pclass  Sex   Age  SibSp  Parch     Fare  Embarked  title  \\\n",
      "0       0.0       3    1  22.0      1      0   7.2500         2      2   \n",
      "1       1.0       1    0  38.0      1      0  71.2833         0      3   \n",
      "2       1.0       3    0  26.0      0      0   7.9250         2      1   \n",
      "3       1.0       1    0  35.0      1      0  53.1000         2      3   \n",
      "4       0.0       3    1  35.0      0      0   8.0500         2      2   \n",
      "5       0.0       3    1  29.0      0      0   8.4583         1      2   \n",
      "6       0.0       1    1  54.0      0      0  51.8625         2      2   \n",
      "7       0.0       3    1   2.0      3      1  21.0750         2      0   \n",
      "8       1.0       3    0  27.0      0      2  11.1333         2      3   \n",
      "9       1.0       2    0  14.0      1      0  30.0708         0      3   \n",
      "\n",
      "   family_num  alone  \n",
      "0           1    0.0  \n",
      "1           1    0.0  \n",
      "2           0    1.0  \n",
      "3           1    0.0  \n",
      "4           0    1.0  \n",
      "5           0    1.0  \n",
      "6           0    1.0  \n",
      "7           4    0.0  \n",
      "8           2    0.0  \n",
      "9           1    0.0  \n",
      "Data Size: 891, Input Shape: torch.Size([891, 10]), Target Shape: torch.Size([891])\n",
      "713 178 418\n",
      "--- LeakyReLU / 128 ---\n",
      "Epoch 100, Training loss 0.6123, Validation loss 0.5907\n",
      "Epoch 200, Training loss 0.6079, Validation loss 0.5791\n",
      "Epoch 300, Training loss 0.5970, Validation loss 0.5724\n",
      "Epoch 400, Training loss 0.5988, Validation loss 0.5688\n",
      "Epoch 500, Training loss 0.5933, Validation loss 0.5654\n",
      "Epoch 600, Training loss 0.5936, Validation loss 0.5636\n",
      "Epoch 700, Training loss 0.5909, Validation loss 0.5598\n",
      "Epoch 800, Training loss 0.5870, Validation loss 0.5552\n",
      "Epoch 900, Training loss 0.5845, Validation loss 0.5518\n",
      "Epoch 1000, Training loss 0.5841, Validation loss 0.5495\n",
      "\n",
      " Finished LeakyReLU / Batch=128\n",
      "WandB URL: https://wandb.ai/jwdam-korea-university-of-technology-and-education/titanic_training/runs/q6yf7ypk\n"
     ]
    },
    {
     "data": {
      "text/html": [],
      "text/plain": [
       "<IPython.core.display.HTML object>"
      ]
     },
     "metadata": {},
     "output_type": "display_data"
    },
    {
     "data": {
      "text/html": [
       "<br>    <style><br>        .wandb-row {<br>            display: flex;<br>            flex-direction: row;<br>            flex-wrap: wrap;<br>            justify-content: flex-start;<br>            width: 100%;<br>        }<br>        .wandb-col {<br>            display: flex;<br>            flex-direction: column;<br>            flex-basis: 100%;<br>            flex: 1;<br>            padding: 10px;<br>        }<br>    </style><br><div class=\"wandb-row\"><div class=\"wandb-col\"><h3>Run history:</h3><br/><table class=\"wandb\"><tr><td>Epoch</td><td>▁▁▁▁▂▂▂▂▂▂▃▃▃▃▄▄▄▄▅▅▅▅▆▆▆▆▆▆▆▆▇▇▇▇▇▇▇███</td></tr><tr><td>Training loss</td><td>█▇▅▅▅▃▄▄▃▃▄▃▃▃▃▃▃▂▃▃▂▃▂▂▂▂▂▂▂▂▂▂▂▂▁▁▂▂▁▁</td></tr><tr><td>Validation loss</td><td>██▅▅▅▄▄▄▃▃▃▃▃▃▂▂▂▂▂▂▂▂▂▂▂▂▂▂▂▂▁▂▁▁▁▁▁▁▁▁</td></tr></table><br/></div><div class=\"wandb-col\"><h3>Run summary:</h3><br/><table class=\"wandb\"><tr><td>Epoch</td><td>1000</td></tr><tr><td>Training loss</td><td>0.58408</td></tr><tr><td>Validation loss</td><td>0.54946</td></tr><tr><td>best_val_loss</td><td>0.54813</td></tr></table><br/></div></div>"
      ],
      "text/plain": [
       "<IPython.core.display.HTML object>"
      ]
     },
     "metadata": {},
     "output_type": "display_data"
    },
    {
     "data": {
      "text/html": [
       " View run <strong style=\"color:#cdcd00\">titanic_LeakyReLU_bs128_2025-10-10_12-00-06</strong> at: <a href='https://wandb.ai/jwdam-korea-university-of-technology-and-education/titanic_training/runs/q6yf7ypk' target=\"_blank\">https://wandb.ai/jwdam-korea-university-of-technology-and-education/titanic_training/runs/q6yf7ypk</a><br> View project at: <a href='https://wandb.ai/jwdam-korea-university-of-technology-and-education/titanic_training' target=\"_blank\">https://wandb.ai/jwdam-korea-university-of-technology-and-education/titanic_training</a><br>Synced 5 W&B file(s), 0 media file(s), 0 artifact file(s) and 0 other file(s)"
      ],
      "text/plain": [
       "<IPython.core.display.HTML object>"
      ]
     },
     "metadata": {},
     "output_type": "display_data"
    },
    {
     "data": {
      "text/html": [
       "Find logs at: <code>.\\wandb\\run-20251010_120006-q6yf7ypk\\logs</code>"
      ],
      "text/plain": [
       "<IPython.core.display.HTML object>"
      ]
     },
     "metadata": {},
     "output_type": "display_data"
    }
   ],
   "source": [
    "import pandas as pd\n",
    "\n",
    "results = [] # 조합별 결과를 저장할 list\n",
    "\n",
    "for act in activation_list:\n",
    "    for bs in batch_sizes:\n",
    "        current_time_str = datetime.now().astimezone().strftime('%Y-%m-%d_%H-%M-%S')\n",
    "\n",
    "        wandb.init(\n",
    "            mode=\"online\",\n",
    "            project=\"titanic_training\",\n",
    "            notes=\"요구사항2: Activation & BatchSize 실험\",\n",
    "            tags=[\"titanic\", act, f\"batch_{bs}\"],\n",
    "            name=f\"titanic_{act}_bs{bs}_{current_time_str}\",\n",
    "            config={\n",
    "                \"epochs\": 1000,\n",
    "                \"batch_size\": bs,\n",
    "                \"learning_rate\": 1e-3,\n",
    "                \"activation\": act,\n",
    "                \"n_hidden_unit_list\": [32, 16],\n",
    "            },\n",
    "        )\n",
    "\n",
    "        # 데이터 로드 \n",
    "        train_data_loader, validation_data_loader, _ = get_data()\n",
    "        activation_fn = activation_map[wandb.config.activation]\n",
    "\n",
    "        # 모델 + 옵티마이저 준비\n",
    "        model, optimizer = get_model_and_optimizer(activation_fn)\n",
    "\n",
    "        # 학습 수행\n",
    "        print(f\"--- {act} / {bs} ---\")\n",
    "        training_loop(model, optimizer, train_data_loader, validation_data_loader, track_best=True)\n",
    "\n",
    "        # 결과 수집\n",
    "        train_loss = wandb.run.summary.get(\"Training loss\", None)\n",
    "        val_loss = wandb.run.summary.get(\"Validation loss\", None)\n",
    "        best_val = wandb.run.summary.get(\"best_val_loss\", None)\n",
    "        run_url = wandb.run.url\n",
    "\n",
    "        results.append({\n",
    "            \"Activation\": act,\n",
    "            \"Batch Size\": bs,\n",
    "            \"Train Loss\": train_loss,\n",
    "            \"Last Val Loss\": val_loss,\n",
    "            \"Best Val Loss\": best_val,\n",
    "            \"WandB URL\": run_url\n",
    "        })\n",
    "        \n",
    "        print(f'\\n Finished {act} / Batch={bs}')\n",
    "        print('WandB URL:', wandb.run.url)\n",
    "        wandb.finish()"
   ]
  },
  {
   "cell_type": "code",
   "execution_count": 53,
   "id": "18a5fd2c-0181-4b6b-b935-0d3a39d7d54b",
   "metadata": {},
   "outputs": [
    {
     "data": {
      "text/html": [
       "<div>\n",
       "<style scoped>\n",
       "    .dataframe tbody tr th:only-of-type {\n",
       "        vertical-align: middle;\n",
       "    }\n",
       "\n",
       "    .dataframe tbody tr th {\n",
       "        vertical-align: top;\n",
       "    }\n",
       "\n",
       "    .dataframe thead th {\n",
       "        text-align: right;\n",
       "    }\n",
       "</style>\n",
       "<table border=\"1\" class=\"dataframe\">\n",
       "  <thead>\n",
       "    <tr style=\"text-align: right;\">\n",
       "      <th></th>\n",
       "      <th>Activation</th>\n",
       "      <th>Batch Size</th>\n",
       "      <th>Train Loss</th>\n",
       "      <th>Last Val Loss</th>\n",
       "      <th>Best Val Loss</th>\n",
       "      <th>WandB URL</th>\n",
       "    </tr>\n",
       "  </thead>\n",
       "  <tbody>\n",
       "    <tr>\n",
       "      <th>0</th>\n",
       "      <td>ReLU</td>\n",
       "      <td>16</td>\n",
       "      <td>0.454252</td>\n",
       "      <td>0.445152</td>\n",
       "      <td>0.436510</td>\n",
       "      <td>https://wandb.ai/jwdam-korea-university-of-tec...</td>\n",
       "    </tr>\n",
       "    <tr>\n",
       "      <th>1</th>\n",
       "      <td>ReLU</td>\n",
       "      <td>32</td>\n",
       "      <td>0.443906</td>\n",
       "      <td>0.539910</td>\n",
       "      <td>0.522936</td>\n",
       "      <td>https://wandb.ai/jwdam-korea-university-of-tec...</td>\n",
       "    </tr>\n",
       "    <tr>\n",
       "      <th>2</th>\n",
       "      <td>ReLU</td>\n",
       "      <td>64</td>\n",
       "      <td>0.530060</td>\n",
       "      <td>0.555124</td>\n",
       "      <td>0.533873</td>\n",
       "      <td>https://wandb.ai/jwdam-korea-university-of-tec...</td>\n",
       "    </tr>\n",
       "    <tr>\n",
       "      <th>3</th>\n",
       "      <td>ReLU</td>\n",
       "      <td>128</td>\n",
       "      <td>0.550128</td>\n",
       "      <td>0.589377</td>\n",
       "      <td>0.586827</td>\n",
       "      <td>https://wandb.ai/jwdam-korea-university-of-tec...</td>\n",
       "    </tr>\n",
       "    <tr>\n",
       "      <th>4</th>\n",
       "      <td>Sigmoid</td>\n",
       "      <td>16</td>\n",
       "      <td>0.598865</td>\n",
       "      <td>0.591493</td>\n",
       "      <td>0.591493</td>\n",
       "      <td>https://wandb.ai/jwdam-korea-university-of-tec...</td>\n",
       "    </tr>\n",
       "    <tr>\n",
       "      <th>5</th>\n",
       "      <td>Sigmoid</td>\n",
       "      <td>32</td>\n",
       "      <td>0.624195</td>\n",
       "      <td>0.596323</td>\n",
       "      <td>0.596323</td>\n",
       "      <td>https://wandb.ai/jwdam-korea-university-of-tec...</td>\n",
       "    </tr>\n",
       "    <tr>\n",
       "      <th>6</th>\n",
       "      <td>Sigmoid</td>\n",
       "      <td>64</td>\n",
       "      <td>0.649612</td>\n",
       "      <td>0.658097</td>\n",
       "      <td>0.658097</td>\n",
       "      <td>https://wandb.ai/jwdam-korea-university-of-tec...</td>\n",
       "    </tr>\n",
       "    <tr>\n",
       "      <th>7</th>\n",
       "      <td>Sigmoid</td>\n",
       "      <td>128</td>\n",
       "      <td>0.663234</td>\n",
       "      <td>0.650931</td>\n",
       "      <td>0.650931</td>\n",
       "      <td>https://wandb.ai/jwdam-korea-university-of-tec...</td>\n",
       "    </tr>\n",
       "    <tr>\n",
       "      <th>8</th>\n",
       "      <td>ELU</td>\n",
       "      <td>16</td>\n",
       "      <td>0.451904</td>\n",
       "      <td>0.400144</td>\n",
       "      <td>0.371075</td>\n",
       "      <td>https://wandb.ai/jwdam-korea-university-of-tec...</td>\n",
       "    </tr>\n",
       "    <tr>\n",
       "      <th>9</th>\n",
       "      <td>ELU</td>\n",
       "      <td>32</td>\n",
       "      <td>0.478600</td>\n",
       "      <td>0.568754</td>\n",
       "      <td>0.427884</td>\n",
       "      <td>https://wandb.ai/jwdam-korea-university-of-tec...</td>\n",
       "    </tr>\n",
       "    <tr>\n",
       "      <th>10</th>\n",
       "      <td>ELU</td>\n",
       "      <td>64</td>\n",
       "      <td>0.515475</td>\n",
       "      <td>0.535299</td>\n",
       "      <td>0.525201</td>\n",
       "      <td>https://wandb.ai/jwdam-korea-university-of-tec...</td>\n",
       "    </tr>\n",
       "    <tr>\n",
       "      <th>11</th>\n",
       "      <td>ELU</td>\n",
       "      <td>128</td>\n",
       "      <td>0.584682</td>\n",
       "      <td>0.531706</td>\n",
       "      <td>0.529536</td>\n",
       "      <td>https://wandb.ai/jwdam-korea-university-of-tec...</td>\n",
       "    </tr>\n",
       "    <tr>\n",
       "      <th>12</th>\n",
       "      <td>LeakyReLU</td>\n",
       "      <td>16</td>\n",
       "      <td>0.451393</td>\n",
       "      <td>0.421502</td>\n",
       "      <td>0.382899</td>\n",
       "      <td>https://wandb.ai/jwdam-korea-university-of-tec...</td>\n",
       "    </tr>\n",
       "    <tr>\n",
       "      <th>13</th>\n",
       "      <td>LeakyReLU</td>\n",
       "      <td>32</td>\n",
       "      <td>0.438348</td>\n",
       "      <td>0.547150</td>\n",
       "      <td>0.475623</td>\n",
       "      <td>https://wandb.ai/jwdam-korea-university-of-tec...</td>\n",
       "    </tr>\n",
       "    <tr>\n",
       "      <th>14</th>\n",
       "      <td>LeakyReLU</td>\n",
       "      <td>64</td>\n",
       "      <td>0.529516</td>\n",
       "      <td>0.552235</td>\n",
       "      <td>0.548603</td>\n",
       "      <td>https://wandb.ai/jwdam-korea-university-of-tec...</td>\n",
       "    </tr>\n",
       "    <tr>\n",
       "      <th>15</th>\n",
       "      <td>LeakyReLU</td>\n",
       "      <td>128</td>\n",
       "      <td>0.584083</td>\n",
       "      <td>0.549460</td>\n",
       "      <td>0.548128</td>\n",
       "      <td>https://wandb.ai/jwdam-korea-university-of-tec...</td>\n",
       "    </tr>\n",
       "  </tbody>\n",
       "</table>\n",
       "</div>"
      ],
      "text/plain": [
       "   Activation  Batch Size  Train Loss  Last Val Loss  Best Val Loss  \\\n",
       "0        ReLU          16    0.454252       0.445152       0.436510   \n",
       "1        ReLU          32    0.443906       0.539910       0.522936   \n",
       "2        ReLU          64    0.530060       0.555124       0.533873   \n",
       "3        ReLU         128    0.550128       0.589377       0.586827   \n",
       "4     Sigmoid          16    0.598865       0.591493       0.591493   \n",
       "5     Sigmoid          32    0.624195       0.596323       0.596323   \n",
       "6     Sigmoid          64    0.649612       0.658097       0.658097   \n",
       "7     Sigmoid         128    0.663234       0.650931       0.650931   \n",
       "8         ELU          16    0.451904       0.400144       0.371075   \n",
       "9         ELU          32    0.478600       0.568754       0.427884   \n",
       "10        ELU          64    0.515475       0.535299       0.525201   \n",
       "11        ELU         128    0.584682       0.531706       0.529536   \n",
       "12  LeakyReLU          16    0.451393       0.421502       0.382899   \n",
       "13  LeakyReLU          32    0.438348       0.547150       0.475623   \n",
       "14  LeakyReLU          64    0.529516       0.552235       0.548603   \n",
       "15  LeakyReLU         128    0.584083       0.549460       0.548128   \n",
       "\n",
       "                                            WandB URL  \n",
       "0   https://wandb.ai/jwdam-korea-university-of-tec...  \n",
       "1   https://wandb.ai/jwdam-korea-university-of-tec...  \n",
       "2   https://wandb.ai/jwdam-korea-university-of-tec...  \n",
       "3   https://wandb.ai/jwdam-korea-university-of-tec...  \n",
       "4   https://wandb.ai/jwdam-korea-university-of-tec...  \n",
       "5   https://wandb.ai/jwdam-korea-university-of-tec...  \n",
       "6   https://wandb.ai/jwdam-korea-university-of-tec...  \n",
       "7   https://wandb.ai/jwdam-korea-university-of-tec...  \n",
       "8   https://wandb.ai/jwdam-korea-university-of-tec...  \n",
       "9   https://wandb.ai/jwdam-korea-university-of-tec...  \n",
       "10  https://wandb.ai/jwdam-korea-university-of-tec...  \n",
       "11  https://wandb.ai/jwdam-korea-university-of-tec...  \n",
       "12  https://wandb.ai/jwdam-korea-university-of-tec...  \n",
       "13  https://wandb.ai/jwdam-korea-university-of-tec...  \n",
       "14  https://wandb.ai/jwdam-korea-university-of-tec...  \n",
       "15  https://wandb.ai/jwdam-korea-university-of-tec...  "
      ]
     },
     "metadata": {},
     "output_type": "display_data"
    },
    {
     "name": "stdout",
     "output_type": "stream",
     "text": [
      "best combination: \n",
      "Activation                                                     ELU\n",
      "Batch Size                                                      16\n",
      "Train Loss                                                0.451904\n",
      "Last Val Loss                                             0.400144\n",
      "Best Val Loss                                             0.371075\n",
      "WandB URL        https://wandb.ai/jwdam-korea-university-of-tec...\n",
      "Name: 8, dtype: object\n"
     ]
    }
   ],
   "source": [
    "results_df = pd.DataFrame(results)\n",
    "display(results_df)\n",
    "\n",
    "best_comb = results_df.loc[results_df[\"Best Val Loss\"].idxmin()]\n",
    "print(\"best combination: \")\n",
    "print(best_comb)"
   ]
  },
  {
   "cell_type": "markdown",
   "id": "61114db7-e110-4501-9479-fec59241344e",
   "metadata": {},
   "source": [
    "# 요구사항2 결론\n",
    "activation_list = ['ReLU', 'Sigmoid', 'ELU', 'LeakyReLU'],  batch_sizes = [16, 32, 64, 128]에 대해 총 16가지의 조합에 대해 실험한 결과 **ELU/batchsize=16**일때 가장 성능이 좋음을 확인했다.    \n",
    "또한, 성능을 더욱 올리기 위해 epoch을 조정한 결과 epoch이 1000을 넘어서면 과적합의 경향이 보여 1000이 최적이라 판단했다.  "
   ]
  },
  {
   "cell_type": "markdown",
   "id": "6d06013e-dd91-4943-9e07-b8b11dca93c0",
   "metadata": {},
   "source": [
    "# [요구사항 3] 테스트 및\tsubmission.csv 생성"
   ]
  },
  {
   "cell_type": "code",
   "execution_count": 78,
   "id": "fff5e974-47d7-4dba-8b71-16aeba5aab1f",
   "metadata": {},
   "outputs": [
    {
     "data": {
      "text/html": [
       "<button onClick=\"this.nextSibling.style.display='block';this.style.display='none';\">Display W&B run</button><iframe src='https://wandb.ai/dummy/dummy/runs/yopv4m41?jupyter=true' style='border:none;width:100%;height:420px;display:none;'></iframe>"
      ],
      "text/plain": [
       "<wandb.sdk.wandb_run.Run at 0x1781004cad0>"
      ]
     },
     "execution_count": 78,
     "metadata": {},
     "output_type": "execute_result"
    }
   ],
   "source": [
    "best_activation_fn = nn.ELU\n",
    "best_batch_size = 16\n",
    "\n",
    "wandb.init(\n",
    "    mode=\"disabled\",\n",
    "    project=\"titanic_training\",\n",
    "    notes=\"요구사항3: 최적 모델로 테스트 예측 및 submission 생성\",\n",
    "    tags=[\"titanic\", \"submission\"],\n",
    "    name=\"titanic_final\",  \n",
    "    config={\n",
    "        \"epochs\": 1000,\n",
    "        \"batch_size\": best_batch_size,\n",
    "        \"learning_rate\": 1e-3,\n",
    "        \"activation\": best_activation_fn,\n",
    "        \"n_hidden_unit_list\": [32, 16],\n",
    "    },\n",
    ")"
   ]
  },
  {
   "cell_type": "code",
   "execution_count": 79,
   "id": "3ded9b62-e2a9-44ea-a64b-2830d7571622",
   "metadata": {},
   "outputs": [
    {
     "name": "stdout",
     "output_type": "stream",
     "text": [
      "Index(['Survived', 'Pclass', 'Sex', 'Age', 'SibSp', 'Parch', 'Fare',\n",
      "       'Embarked', 'title', 'family_num', 'alone'],\n",
      "      dtype='object')\n",
      "   Survived  Pclass  Sex   Age  SibSp  Parch     Fare  Embarked  title  \\\n",
      "0       0.0       3    1  22.0      1      0   7.2500         2      2   \n",
      "1       1.0       1    0  38.0      1      0  71.2833         0      3   \n",
      "2       1.0       3    0  26.0      0      0   7.9250         2      1   \n",
      "3       1.0       1    0  35.0      1      0  53.1000         2      3   \n",
      "4       0.0       3    1  35.0      0      0   8.0500         2      2   \n",
      "5       0.0       3    1  29.0      0      0   8.4583         1      2   \n",
      "6       0.0       1    1  54.0      0      0  51.8625         2      2   \n",
      "7       0.0       3    1   2.0      3      1  21.0750         2      0   \n",
      "8       1.0       3    0  27.0      0      2  11.1333         2      3   \n",
      "9       1.0       2    0  14.0      1      0  30.0708         0      3   \n",
      "\n",
      "   family_num  alone  \n",
      "0           1    0.0  \n",
      "1           1    0.0  \n",
      "2           0    1.0  \n",
      "3           1    0.0  \n",
      "4           0    1.0  \n",
      "5           0    1.0  \n",
      "6           0    1.0  \n",
      "7           4    0.0  \n",
      "8           2    0.0  \n",
      "9           1    0.0  \n",
      "Data Size: 891, Input Shape: torch.Size([891, 10]), Target Shape: torch.Size([891])\n",
      "713 178 418\n"
     ]
    }
   ],
   "source": [
    "train_data_loader, validation_data_loader, test_data_loader = get_data()\n",
    "model, optimizer = get_model_and_optimizer(best_activation_fn)"
   ]
  },
  {
   "cell_type": "markdown",
   "id": "2dc6c341-d9c1-423b-94ec-4f212b21ab54",
   "metadata": {},
   "source": [
    "# submission.csv 구성 위치 고찰\n",
    "\n",
    "`submission.csv`를 생성하는 시점은 **훈련이 완료된 후**,  \n",
    "모델이 가장 우수한 성능을 보였던 파라미터 상태(`best_state`)를 불러온 시점이 적절하다.\n",
    "\n",
    "훈련 과정에서는 매 epoch마다 검증 손실(`val_loss`)을 계산하고,  \n",
    "이전까지의 최소 검증 손실(`best_val_loss`)보다 낮을 경우 다음과 같이 최고 성능의 모델 가중치를 갱신하도록한다:\n",
    "\n",
    "```python\n",
    "if val_loss < best_val_loss:\n",
    "    best_val_loss = val_loss\n",
    "    best_state = model.state_dict()\n",
    "\n",
    "이 구조를 통해 훈련 도중 가장 일반화 성능이 좋은 시점의 모델이 저장하고,\n",
    "모든 학습이 종료된 후 model.load_state_dict(best_state)로 해당 파라미터를 복원하여\n",
    "테스트 데이터에 대한 예측(submission.csv 생성) 을 수행한다.\n",
    "\n",
    "결과적으로, 단순히 마지막 epoch의 모델이 아니라\n",
    "검증 성능이 가장 우수했던 시점의 모델을 기반으로 예측을 수행하는 것이 더 합리적이라 판단된다."
   ]
  },
  {
   "cell_type": "code",
   "execution_count": 80,
   "id": "5b076bfb-7f39-4c52-a337-696f7f1631d5",
   "metadata": {},
   "outputs": [
    {
     "name": "stdout",
     "output_type": "stream",
     "text": [
      "Epoch 100, Training loss 0.5495, Validation loss 0.5769\n",
      "Epoch 200, Training loss 0.5144, Validation loss 0.5377\n",
      "Epoch 300, Training loss 0.4841, Validation loss 0.4674\n",
      "Epoch 400, Training loss 0.4709, Validation loss 0.5062\n",
      "Epoch 500, Training loss 0.4523, Validation loss 0.5453\n",
      "Epoch 600, Training loss 0.4415, Validation loss 0.5096\n",
      "Epoch 700, Training loss 0.4552, Validation loss 0.4333\n",
      "Epoch 800, Training loss 0.4552, Validation loss 0.4832\n",
      "Epoch 900, Training loss 0.4483, Validation loss 0.4218\n",
      "Epoch 1000, Training loss 0.4358, Validation loss 0.4220\n"
     ]
    }
   ],
   "source": [
    "n_epochs = wandb.config.epochs\n",
    "loss_fn = nn.BCEWithLogitsLoss()  \n",
    "next_print_epoch = 100\n",
    "\n",
    "best_val_loss = float('inf') \n",
    "best_state = None\n",
    "        \n",
    "for epoch in range(1, n_epochs + 1):\n",
    "    loss_train = 0.0\n",
    "    num_trains = 0\n",
    "    for train_batch in train_data_loader:\n",
    "        input = train_batch['input']\n",
    "        target = train_batch['target'].unsqueeze(1)\n",
    "        output_train = model(input)\n",
    "        loss = loss_fn(output_train, target.float())\n",
    "        loss_train += loss.item()\n",
    "        num_trains += 1\n",
    "          \n",
    "        loss.backward()\n",
    "        optimizer.step()\n",
    "        optimizer.zero_grad()\n",
    "        \n",
    "    loss_validation = 0.0\n",
    "    num_validations = 0\n",
    "    with torch.no_grad():\n",
    "        for validation_batch in validation_data_loader:\n",
    "            input = validation_batch['input']\n",
    "            target = validation_batch['target'].unsqueeze(1)\n",
    "            output_validation = model(input)\n",
    "            loss = loss_fn(output_validation, target.float())\n",
    "            loss_validation += loss.item()\n",
    "            num_validations += 1      \n",
    "    \n",
    "    val_loss = loss_validation / num_validations     \n",
    "    \n",
    "    # 최고 성능 파라미터 저장\n",
    "    if val_loss < best_val_loss:\n",
    "        best_val_loss = val_loss\n",
    "        best_state = model.state_dict()\n",
    "                \n",
    "    if epoch >= next_print_epoch:\n",
    "        print(\n",
    "        f\"Epoch {epoch}, \"\n",
    "        f\"Training loss {loss_train / num_trains:.4f}, \"\n",
    "        f\"Validation loss {loss_validation / num_validations:.4f}\"\n",
    "        )\n",
    "        next_print_epoch += 100"
   ]
  },
  {
   "cell_type": "code",
   "execution_count": 68,
   "id": "f633f5c7-d18b-49fd-8aed-66079d83d9ed",
   "metadata": {},
   "outputs": [
    {
     "data": {
      "text/plain": [
       "<All keys matched successfully>"
      ]
     },
     "execution_count": 68,
     "metadata": {},
     "output_type": "execute_result"
    }
   ],
   "source": [
    "# 최고 성능 모델 로드\n",
    "model.load_state_dict(best_state)"
   ]
  },
  {
   "cell_type": "code",
   "execution_count": 86,
   "id": "8f05a358-07c7-40e2-adc3-8e805561f302",
   "metadata": {},
   "outputs": [],
   "source": [
    "# submission 생성\n",
    "y_preds = []\n",
    "\n",
    "with torch.no_grad():\n",
    "    for test_batch in test_data_loader:\n",
    "        X_test = test_batch['input']\n",
    "        y_pred = model(X_test)\n",
    "        y_pred_binary = (y_pred >= 0.5).int().flatten() \n",
    "        # 0.5 기준으로 이진 분류 (0 또는 1) 후, flatten()으로 (N,1) → (N,) 형태로 변환하여 리스트 확장에 맞게 1차원 벡터로 정리\n",
    "        y_preds.extend(y_pred_binary.tolist()) # 배치별 결과를 리스트에 누적 저장"
   ]
  },
  {
   "cell_type": "code",
   "execution_count": 71,
   "id": "1a85a035-4d97-48fb-a039-de265051ae20",
   "metadata": {},
   "outputs": [],
   "source": [
    "submission = pd.DataFrame({\n",
    "    'PassengerID' : range(892, 892+len(y_preds)),\n",
    "    'Survived' : y_preds\n",
    "})\n",
    "\n",
    "submission.to_csv('submission.csv', index=False)"
   ]
  },
  {
   "cell_type": "code",
   "execution_count": 73,
   "id": "7719e3c8-12e2-403c-8abf-a8da4fc293c8",
   "metadata": {},
   "outputs": [
    {
     "name": "stdout",
     "output_type": "stream",
     "text": [
      "submission.csv 생성 완료 — 총 418행\n"
     ]
    }
   ],
   "source": [
    "import os\n",
    "\n",
    "if os.path.exists(\"submission.csv\"):\n",
    "    df_check = pd.read_csv(\"submission.csv\")\n",
    "    # ID 892~1309,총 418개  \n",
    "    print(f\"submission.csv 생성 완료 — 총 {len(df_check)}행\")\n",
    "else:\n",
    "    print(\"submission.csv 생성 실패\")"
   ]
  },
  {
   "cell_type": "markdown",
   "id": "18498d30-52ef-4ada-bfea-c41e8b2cb364",
   "metadata": {},
   "source": [
    "# [요구사항 4]\tsubmission.csv제출 및 등수확인"
   ]
  },
  {
   "cell_type": "markdown",
   "id": "af0f4fcc-358d-4eff-ad07-959c22df6e22",
   "metadata": {},
   "source": [
    "![Titanic Leaderboard](https://raw.githubusercontent.com/jwdam/dl_homeworks/main/howeworks2/titanic_ranking.png)"
   ]
  },
  {
   "cell_type": "markdown",
   "id": "966625a1-fc19-4781-907f-f7a3f013ed8e",
   "metadata": {},
   "source": [
    "# 숙제 후기"
   ]
  },
  {
   "cell_type": "markdown",
   "id": "86c5c5e5-d66e-4aec-ad59-14ab078aef09",
   "metadata": {},
   "source": [
    "이번 과제에서는 **Kaggle의 Titanic 생존자 예측 문제**를 통해  \n",
    "**이진 분류(Binary Classification)** 기반의 **FCN(Fully Connected Network)** 모델 구조와 학습 과정을 다뤘다.  \n",
    "탑승객의 다양한 특성을 입력으로 받아 생존 여부(0 또는 1)를 예측하는 모델을 구현하며,  \n",
    "신경망이 분류 문제를 해결하는 과정을 직접 확인할 수 있었다.  \n",
    "\n",
    "**층별 뉴런 수를 다르게 설정한 실험**을 통해,  \n",
    "복잡한 구조(예: 64–32)는 학습 속도는 빠르지만 과적합이 쉽게 발생했고,  \n",
    "적절한 크기(예: 32–16)의 네트워크가 오히려 더 좋은 검증 성능을 보였다.  \n",
    "이를 통해 모델의 복잡도가 항상 성능 향상으로 이어지지 않으며,  \n",
    "**모델의 단순함과 일반화 성능 사이의 균형이 중요**하다는 점을 깨달을 수 있었다.  \n",
    "\n",
    "이에 더해 단순히 모델을 구성하는 것에 그치지 않고, **활성화 함수(Activation Function)** 와 **Batch Size** 조합에 따른 성능 차이를 비교하며   \n",
    "**하이퍼파라미터가 학습 과정에 미치는 영향**을 분석했다.  \n",
    "특히, 실험에서 ReLU보다 ELU 함수가 더 안정적으로 수렴하는 경향을 보였다.  \n",
    "그리고 너무 큰 Batch Size는 학습이 빠르지만 일반화 성능이 떨어지는 반면,  \n",
    "작은 Batch Size는 손실이 천천히 감소하지만 더 안정적인 결과를 보여주었다.  \n",
    "\n",
    "또한, **WandB**를 이용해 학습 과정을 시각화하면서  \n",
    "Epoch에 따른 **Training Loss**와 **Validation Loss** 변화를 직관적으로 관찰할 수 있었다.  \n",
    "이를 통해 학습이 진행될수록 훈련 손실은 꾸준히 감소하지만,  \n",
    "검증 손실이 일정 시점 이후 다시 증가하는 과적합(Overfitting) 현상을 확인할 수 있었고,  \n",
    "일정 수준의 Epoch 이후에는 추가 학습이 오히려 성능 저하로 이어질 수 있다는 점을 이해하게 되었다.  \n",
    "\n",
    "마지막으로 학습 도중 가장 낮은 **검증 손실(Validation Loss)** 을 기록한 시점의 파라미터를 저장하고  \n",
    "그 상태를 복원해 `submission.csv`를 생성함으로써,  \n",
    "단순히 마지막 Epoch의 결과가 아닌 **최고 성능 시점의 모델**로 예측을 수행하는 방법의 중요성을 확인했다.  "
   ]
  }
 ],
 "metadata": {
  "kernelspec": {
   "display_name": "Python (link_dl)",
   "language": "python",
   "name": "link_dl"
  },
  "language_info": {
   "codemirror_mode": {
    "name": "ipython",
    "version": 3
   },
   "file_extension": ".py",
   "mimetype": "text/x-python",
   "name": "python",
   "nbconvert_exporter": "python",
   "pygments_lexer": "ipython3",
   "version": "3.12.11"
  }
 },
 "nbformat": 4,
 "nbformat_minor": 5
}
